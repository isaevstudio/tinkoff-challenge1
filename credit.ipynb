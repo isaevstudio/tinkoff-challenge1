{
 "cells": [
  {
   "cell_type": "code",
   "execution_count": 156,
   "id": "a72cc689",
   "metadata": {},
   "outputs": [],
   "source": [
    "#standard libraries for data Manipulations\n",
    "import pandas as pd\n",
    "import numpy as np\n",
    "from numpy import mean\n",
    "import matplotlib.pyplot as plt\n",
    "import seaborn as sns\n",
    "\n",
    "#train/test splits and feature selection (Chi & mutual_info_classif)\n",
    "from sklearn.model_selection import train_test_split\n",
    "from sklearn.feature_selection import SelectKBest\n",
    "from sklearn.feature_selection import chi2\n",
    "from sklearn.feature_selection import mutual_info_classif\n",
    "\n",
    "#tweaking the parameters library and repeated dataset split for testing the ML algrorithms\n",
    "from sklearn.model_selection import GridSearchCV\n",
    "from sklearn.model_selection import RepeatedStratifiedKFold\n",
    "\n",
    "#metrics\n",
    "from sklearn.metrics import classification_report, plot_roc_curve, confusion_matrix\n",
    "from sklearn.model_selection import cross_val_score\n",
    "\n",
    "#scaling the dataset to mean=0; To get more normally distributed data\n",
    "# from sklearn.preprocessing import StandardScaler \n",
    "\n",
    "# I've decided to use tree-based algorithms. So no need of scaling the data\n",
    "\n",
    "#ML algorithms that work good with imbalanced datasets (Used one from boosting & one from tree-based)\n",
    "from xgboost import XGBClassifier\n",
    "from sklearn.tree import DecisionTreeClassifier\n",
    "\n",
    "# encoding and saving the models\n",
    "import joblib\n",
    "from sklearn.preprocessing import OneHotEncoder\n",
    "from sklearn.compose import ColumnTransformer\n",
    "\n",
    "# ---------------------------------------------------------------------------------------------------------\n",
    "import warnings\n",
    "warnings.simplefilter(action='ignore', category=FutureWarning)\n",
    "pd.set_option('display.float_format', '{:.2f}'.format)"
   ]
  },
  {
   "cell_type": "code",
   "execution_count": 157,
   "id": "1dc9cefa",
   "metadata": {},
   "outputs": [],
   "source": [
    "credit_tn_org = pd.read_csv(r'credit_train.csv')\n",
    "credit_test_org = pd.read_csv(r'credit_test.csv')\n",
    "additional_org = pd.read_csv(r'additional_credit_train_wo_target.csv')"
   ]
  },
  {
   "cell_type": "code",
   "execution_count": 158,
   "id": "f99df63d",
   "metadata": {
    "scrolled": true
   },
   "outputs": [
    {
     "name": "stdout",
     "output_type": "stream",
     "text": [
      "Shape credit_tn_org df: (136596, 15)\n",
      "Shape credit_test_org df: (34150, 14)\n",
      "Shape additional_org df: (91940, 14) \n",
      "\n",
      "Missing column: open_account_flg\n"
     ]
    }
   ],
   "source": [
    "print('Shape credit_tn_org df:',credit_tn_org.shape)\n",
    "print('Shape credit_test_org df:',credit_test_org.shape)\n",
    "print('Shape additional_org df:',additional_org.shape,'\\n')\n",
    "\n",
    "print('Missing column:',*(set(credit_tn_org.columns) - set(credit_test_org.columns)))"
   ]
  },
  {
   "cell_type": "code",
   "execution_count": 159,
   "id": "be95253a",
   "metadata": {},
   "outputs": [],
   "source": [
    "y = credit_tn_org['open_account_flg']\n",
    "\n",
    "credit_tn = credit_tn_org.drop(['open_account_flg'],axis=1).copy()\n",
    "credit_tt = credit_test_org.copy()\n",
    "additional = additional_org.copy()"
   ]
  },
  {
   "cell_type": "code",
   "execution_count": 160,
   "id": "29e9818a",
   "metadata": {},
   "outputs": [
    {
     "name": "stdout",
     "output_type": "stream",
     "text": [
      "credit_tn: (136596, 14)\n",
      "credit_tt: (34150, 14)\n"
     ]
    }
   ],
   "source": [
    "print('credit_tn:',credit_tn.shape)\n",
    "print('credit_tt:',credit_tt.shape)"
   ]
  },
  {
   "cell_type": "code",
   "execution_count": 161,
   "id": "3eab45d7",
   "metadata": {},
   "outputs": [],
   "source": [
    "credit_tn['test']=False\n",
    "credit_tt['test']=True\n",
    "credit_all = credit_tn.append(credit_tt)"
   ]
  },
  {
   "cell_type": "code",
   "execution_count": 162,
   "id": "b74cd0fa",
   "metadata": {},
   "outputs": [
    {
     "data": {
      "text/plain": [
       "(170746, 15)"
      ]
     },
     "execution_count": 162,
     "metadata": {},
     "output_type": "execute_result"
    }
   ],
   "source": [
    "credit_all.shape"
   ]
  },
  {
   "cell_type": "code",
   "execution_count": 163,
   "id": "5fa26a5e",
   "metadata": {},
   "outputs": [
    {
     "data": {
      "text/html": [
       "<div>\n",
       "<style scoped>\n",
       "    .dataframe tbody tr th:only-of-type {\n",
       "        vertical-align: middle;\n",
       "    }\n",
       "\n",
       "    .dataframe tbody tr th {\n",
       "        vertical-align: top;\n",
       "    }\n",
       "\n",
       "    .dataframe thead th {\n",
       "        text-align: right;\n",
       "    }\n",
       "</style>\n",
       "<table border=\"1\" class=\"dataframe\">\n",
       "  <thead>\n",
       "    <tr style=\"text-align: right;\">\n",
       "      <th></th>\n",
       "      <th>client_id</th>\n",
       "      <th>gender</th>\n",
       "      <th>age</th>\n",
       "      <th>marital_status</th>\n",
       "      <th>job_position</th>\n",
       "      <th>credit_sum</th>\n",
       "      <th>credit_month</th>\n",
       "      <th>tariff_id</th>\n",
       "      <th>score_shk</th>\n",
       "      <th>education</th>\n",
       "      <th>living_region</th>\n",
       "      <th>monthly_income</th>\n",
       "      <th>credit_count</th>\n",
       "      <th>overdue_credit_count</th>\n",
       "      <th>test</th>\n",
       "    </tr>\n",
       "  </thead>\n",
       "  <tbody>\n",
       "    <tr>\n",
       "      <th>0</th>\n",
       "      <td>52372</td>\n",
       "      <td>M</td>\n",
       "      <td>38</td>\n",
       "      <td>MAR</td>\n",
       "      <td>SPC</td>\n",
       "      <td>12168,00</td>\n",
       "      <td>10</td>\n",
       "      <td>1.10</td>\n",
       "      <td>0,308454</td>\n",
       "      <td>GRD</td>\n",
       "      <td>ОБЛ ВОЛОГОДСКАЯ</td>\n",
       "      <td>25000.00</td>\n",
       "      <td>0.00</td>\n",
       "      <td>0.00</td>\n",
       "      <td>False</td>\n",
       "    </tr>\n",
       "    <tr>\n",
       "      <th>1</th>\n",
       "      <td>75213</td>\n",
       "      <td>F</td>\n",
       "      <td>36</td>\n",
       "      <td>MAR</td>\n",
       "      <td>SPC</td>\n",
       "      <td>17738,00</td>\n",
       "      <td>10</td>\n",
       "      <td>1.10</td>\n",
       "      <td>0,498147</td>\n",
       "      <td>GRD</td>\n",
       "      <td>ОБЛ БЕЛГОРОДСКАЯ</td>\n",
       "      <td>25000.00</td>\n",
       "      <td>4.00</td>\n",
       "      <td>0.00</td>\n",
       "      <td>False</td>\n",
       "    </tr>\n",
       "    <tr>\n",
       "      <th>2</th>\n",
       "      <td>119931</td>\n",
       "      <td>M</td>\n",
       "      <td>23</td>\n",
       "      <td>UNM</td>\n",
       "      <td>SPC</td>\n",
       "      <td>26489,00</td>\n",
       "      <td>10</td>\n",
       "      <td>1.10</td>\n",
       "      <td>0,431980</td>\n",
       "      <td>SCH</td>\n",
       "      <td>ЧЕЛЯБИНСКАЯ ОБЛ</td>\n",
       "      <td>25000.00</td>\n",
       "      <td>NaN</td>\n",
       "      <td>NaN</td>\n",
       "      <td>False</td>\n",
       "    </tr>\n",
       "  </tbody>\n",
       "</table>\n",
       "</div>"
      ],
      "text/plain": [
       "   client_id gender  age marital_status job_position credit_sum  credit_month  \\\n",
       "0      52372      M   38            MAR          SPC   12168,00            10   \n",
       "1      75213      F   36            MAR          SPC   17738,00            10   \n",
       "2     119931      M   23            UNM          SPC   26489,00            10   \n",
       "\n",
       "   tariff_id score_shk education     living_region  monthly_income  \\\n",
       "0       1.10  0,308454       GRD   ОБЛ ВОЛОГОДСКАЯ        25000.00   \n",
       "1       1.10  0,498147       GRD  ОБЛ БЕЛГОРОДСКАЯ        25000.00   \n",
       "2       1.10  0,431980       SCH   ЧЕЛЯБИНСКАЯ ОБЛ        25000.00   \n",
       "\n",
       "   credit_count  overdue_credit_count   test  \n",
       "0          0.00                  0.00  False  \n",
       "1          4.00                  0.00  False  \n",
       "2           NaN                   NaN  False  "
      ]
     },
     "execution_count": 163,
     "metadata": {},
     "output_type": "execute_result"
    }
   ],
   "source": [
    "credit_all.head(3)"
   ]
  },
  {
   "cell_type": "code",
   "execution_count": 164,
   "id": "f0122d8d",
   "metadata": {},
   "outputs": [],
   "source": [
    "indx_dropped = []"
   ]
  },
  {
   "cell_type": "markdown",
   "id": "17155b15",
   "metadata": {},
   "source": [
    "In my opinion, __tariff_id & score_shk are nominal features.__"
   ]
  },
  {
   "cell_type": "markdown",
   "id": "312a4f8a",
   "metadata": {},
   "source": [
    "------"
   ]
  },
  {
   "cell_type": "markdown",
   "id": "fdb96b87",
   "metadata": {},
   "source": [
    "### Functions: Missing values, Distribution plot, boxplot"
   ]
  },
  {
   "cell_type": "code",
   "execution_count": 165,
   "id": "43613d59",
   "metadata": {},
   "outputs": [],
   "source": [
    "def missing_v_c(df):\n",
    "    missing_df = pd.DataFrame(index=credit_tn.columns,columns=['missing in %', 'missing in count'])\n",
    "\n",
    "    missing_values_prcnt = (df.isnull().sum()/df.shape[0])*100\n",
    "    missing_values_cnt = df.isnull().sum()\n",
    "    \n",
    "    missing_df['missing in %'] = missing_values_prcnt\n",
    "    missing_df['missing in count'] = missing_values_cnt\n",
    "    \n",
    "    return missing_df.loc[missing_df['missing in count'] != 0]"
   ]
  },
  {
   "cell_type": "code",
   "execution_count": 166,
   "id": "b0541f20",
   "metadata": {},
   "outputs": [],
   "source": [
    "def dist_plots(df, id_, target_column):\n",
    "    for i in df.columns:\n",
    "        if (i != id_) & (i != target_column) & (pd.api.types.is_numeric_dtype(df[i])):\n",
    "            print(i,'\\n')\n",
    "            sns.distplot(df[i])\n",
    "            plt.show();"
   ]
  },
  {
   "cell_type": "code",
   "execution_count": 167,
   "id": "274221e6",
   "metadata": {},
   "outputs": [],
   "source": [
    "def boxplot(df, id_, target_column):\n",
    "    for i in df.columns:\n",
    "        if (i != id_) & (i != target_column) & (pd.api.types.is_numeric_dtype(df[i])):\n",
    "            print(i,'\\n')\n",
    "            sns.boxplot(x=target_column,y=i,data=df)\n",
    "            plt.show();"
   ]
  },
  {
   "cell_type": "code",
   "execution_count": 168,
   "id": "482a8155",
   "metadata": {},
   "outputs": [],
   "source": [
    "def change_living(x):\n",
    "    if x == '98':\n",
    "        return u'САНКТПЕТЕРБУРГ'\n",
    "    if x == '74':\n",
    "        return u'ЧЕЛЯБИНСК'\n",
    "    x = x.upper()\n",
    "    x = x.replace(u'РЕСПУБЛИКА САХА',u'ЯКУТИЯ')\n",
    "    x = x.replace(u' АВТОНОМНЫЙ ОКРУГ - ЮГРА', u'')\n",
    "    x = x.replace(u' АВТОНОМНЫЙ ОКРУГ - Ю','')\n",
    "    x = x.replace(u'ОБЛАСТЬ',u'')\n",
    "    x = x.replace(u'РЕСПУБЛИКА',u'')\n",
    "    x = x.replace(u'КРАЙ',u'')\n",
    "    \n",
    "    x = x.replace(u'ОБЛ',u'')\n",
    "    x = x.replace(u'РЕСП',u'')\n",
    "    x = x.replace(u'Г ',u'')\n",
    "    x = x.replace(u' Г',u'')\n",
    "    x = x.replace(u'Г. ',u'')\n",
    "    x = x.replace(u'Г.',u'')\n",
    "    x = x.replace(u'АО',u'')\n",
    "    x = x.replace(u'АО ',u'')\n",
    "    x = x.replace(u' АО',u'')\n",
    "    \n",
    "\n",
    "    x = x.replace(u'ГМОСКВА','МОСКВА')\n",
    "    x = x.replace(u'Р-Н',u'')\n",
    "    x = x.replace(u'САХА','')\n",
    "    \n",
    "    x = x.replace(u'-','')\n",
    "    x = x.replace(u')','')\n",
    "    x = x.replace(u'(','')\n",
    "    x = x.replace(u'/','')\n",
    "    x = x.replace(u'.','')\n",
    "    x = x.replace(u' ',u'')\n",
    "    \n",
    "    return x"
   ]
  },
  {
   "cell_type": "markdown",
   "id": "c677293b",
   "metadata": {},
   "source": [
    "------"
   ]
  },
  {
   "cell_type": "markdown",
   "id": "65fa14e9",
   "metadata": {},
   "source": [
    "# EDA"
   ]
  },
  {
   "cell_type": "markdown",
   "id": "38bbb5b8",
   "metadata": {},
   "source": [
    "### Checking for the class distribution (open_account_flg)"
   ]
  },
  {
   "cell_type": "code",
   "execution_count": 169,
   "id": "37f6ea1f",
   "metadata": {},
   "outputs": [
    {
     "data": {
      "image/png": "[encoded data removed]",
      "text/plain": [
       "<Figure size 720x432 with 1 Axes>"
      ]
     },
     "metadata": {
      "needs_background": "light"
     },
     "output_type": "display_data"
    }
   ],
   "source": [
    "fig, ax = plt.subplots(figsize=(10, 6))\n",
    "ax = sns.barplot(x=credit_tn_org.open_account_flg.value_counts().index,y=credit_tn_org.open_account_flg.value_counts(normalize=True)*100)\n",
    "ax.bar_label(ax.containers[0], fmt='%.2f', padding=3)\n",
    "ax.set_title('Open account in prcnt',pad=10);\n",
    "\n",
    "# We are dealing with imbalanced dataset. Common ways of solving:\n",
    "# 1. Sampling methods (Oversampling, undersampling...)\n",
    "# 2. Tree-based algorithms can handle imbalanced datasets\n",
    "# 3. Boosting algorithms can handle imbalanced datasets. \n",
    "#    They give  higher weight to the minority class at each successive iteration"
   ]
  },
  {
   "cell_type": "markdown",
   "id": "7ab2b0c4",
   "metadata": {},
   "source": [
    "### Checking for the patterns"
   ]
  },
  {
   "cell_type": "markdown",
   "id": "ecf64def",
   "metadata": {},
   "source": [
    "#### score_shk & open_account_flg"
   ]
  },
  {
   "cell_type": "code",
   "execution_count": 170,
   "id": "5a142178",
   "metadata": {},
   "outputs": [
    {
     "name": "stdout",
     "output_type": "stream",
     "text": [
      "MIN: 0,072468\n",
      "MAX: 1,054699\n"
     ]
    }
   ],
   "source": [
    "# ['open_account_flg']==1\n",
    "print(f'''MIN: {credit_tn_org.loc[credit_tn_org['open_account_flg']==1]['score_shk'].min()}\n",
    "MAX: {credit_tn_org.loc[credit_tn_org['open_account_flg']==1]['score_shk'].max()}''')"
   ]
  },
  {
   "cell_type": "code",
   "execution_count": 171,
   "id": "d9e71e52",
   "metadata": {},
   "outputs": [
    {
     "name": "stdout",
     "output_type": "stream",
     "text": [
      "MIN: 0,000000\n",
      "MAX: 1,128291\n"
     ]
    }
   ],
   "source": [
    "# ['open_account_flg']==0\n",
    "print(f'''MIN: {credit_tn_org.loc[credit_tn_org['open_account_flg']==0]['score_shk'].min()}\n",
    "MAX: {credit_tn_org.loc[credit_tn_org['open_account_flg']==0]['score_shk'].max()}''')"
   ]
  },
  {
   "cell_type": "markdown",
   "id": "83168fb5",
   "metadata": {},
   "source": [
    "#### overdue_credit_count & open_account_flg"
   ]
  },
  {
   "cell_type": "code",
   "execution_count": 172,
   "id": "a49b333c",
   "metadata": {},
   "outputs": [
    {
     "data": {
      "text/plain": [
       "0.00    123281\n",
       "1.00      5909\n",
       "2.00        38\n",
       "3.00         3\n",
       "Name: overdue_credit_count, dtype: int64"
      ]
     },
     "execution_count": 172,
     "metadata": {},
     "output_type": "execute_result"
    }
   ],
   "source": [
    "credit_tn_org.overdue_credit_count.value_counts()"
   ]
  },
  {
   "cell_type": "code",
   "execution_count": 173,
   "id": "8144ca4a",
   "metadata": {},
   "outputs": [
    {
     "name": "stdout",
     "output_type": "stream",
     "text": [
      "MIN: 0.0\n",
      "MAX: 2.0\n"
     ]
    }
   ],
   "source": [
    "print(f'''MIN: {credit_tn_org.loc[credit_tn_org['open_account_flg']==1]['overdue_credit_count'].min()}\n",
    "MAX: {credit_tn_org.loc[credit_tn_org['open_account_flg']==1]['overdue_credit_count'].max()}''')"
   ]
  },
  {
   "cell_type": "code",
   "execution_count": 174,
   "id": "7c7e39e0",
   "metadata": {},
   "outputs": [
    {
     "data": {
      "text/plain": [
       "0.00    20078\n",
       "1.00     1199\n",
       "2.00       11\n",
       "Name: overdue_credit_count, dtype: int64"
      ]
     },
     "execution_count": 174,
     "metadata": {},
     "output_type": "execute_result"
    }
   ],
   "source": [
    "credit_tn_org.loc[credit_tn_org['open_account_flg']==1]['overdue_credit_count'].value_counts()"
   ]
  },
  {
   "cell_type": "code",
   "execution_count": 175,
   "id": "34ebec9e",
   "metadata": {},
   "outputs": [
    {
     "name": "stdout",
     "output_type": "stream",
     "text": [
      "MIN: 0.0\n",
      "MAX: 3.0\n"
     ]
    }
   ],
   "source": [
    "print(f'''MIN: {credit_tn_org.loc[credit_tn_org['open_account_flg']==0]['overdue_credit_count'].min()}\n",
    "MAX: {credit_tn_org.loc[credit_tn_org['open_account_flg']==0]['overdue_credit_count'].max()}''')"
   ]
  },
  {
   "cell_type": "code",
   "execution_count": 176,
   "id": "6faadddb",
   "metadata": {
    "scrolled": true
   },
   "outputs": [
    {
     "data": {
      "text/plain": [
       "0.00    103203\n",
       "1.00      4710\n",
       "2.00        27\n",
       "3.00         3\n",
       "Name: overdue_credit_count, dtype: int64"
      ]
     },
     "execution_count": 176,
     "metadata": {},
     "output_type": "execute_result"
    }
   ],
   "source": [
    "credit_tn_org.loc[credit_tn_org['open_account_flg']==0]['overdue_credit_count'].value_counts()"
   ]
  },
  {
   "cell_type": "markdown",
   "id": "91803987",
   "metadata": {},
   "source": [
    "#### credit_count & open_account_flg"
   ]
  },
  {
   "cell_type": "code",
   "execution_count": 177,
   "id": "48a8c2f9",
   "metadata": {
    "scrolled": true
   },
   "outputs": [
    {
     "data": {
      "text/html": [
       "<div>\n",
       "<style scoped>\n",
       "    .dataframe tbody tr th:only-of-type {\n",
       "        vertical-align: middle;\n",
       "    }\n",
       "\n",
       "    .dataframe tbody tr th {\n",
       "        vertical-align: top;\n",
       "    }\n",
       "\n",
       "    .dataframe thead th {\n",
       "        text-align: right;\n",
       "    }\n",
       "</style>\n",
       "<table border=\"1\" class=\"dataframe\">\n",
       "  <thead>\n",
       "    <tr style=\"text-align: right;\">\n",
       "      <th></th>\n",
       "      <th></th>\n",
       "      <th>client_id</th>\n",
       "    </tr>\n",
       "    <tr>\n",
       "      <th>credit_count</th>\n",
       "      <th>open_account_flg</th>\n",
       "      <th></th>\n",
       "    </tr>\n",
       "  </thead>\n",
       "  <tbody>\n",
       "    <tr>\n",
       "      <th rowspan=\"2\" valign=\"top\">0.00</th>\n",
       "      <th>0</th>\n",
       "      <td>17751</td>\n",
       "    </tr>\n",
       "    <tr>\n",
       "      <th>1</th>\n",
       "      <td>2969</td>\n",
       "    </tr>\n",
       "    <tr>\n",
       "      <th rowspan=\"2\" valign=\"top\">1.00</th>\n",
       "      <th>0</th>\n",
       "      <td>30196</td>\n",
       "    </tr>\n",
       "    <tr>\n",
       "      <th>1</th>\n",
       "      <td>5974</td>\n",
       "    </tr>\n",
       "    <tr>\n",
       "      <th rowspan=\"2\" valign=\"top\">2.00</th>\n",
       "      <th>0</th>\n",
       "      <td>24845</td>\n",
       "    </tr>\n",
       "    <tr>\n",
       "      <th>1</th>\n",
       "      <td>4693</td>\n",
       "    </tr>\n",
       "    <tr>\n",
       "      <th rowspan=\"2\" valign=\"top\">3.00</th>\n",
       "      <th>0</th>\n",
       "      <td>15916</td>\n",
       "    </tr>\n",
       "    <tr>\n",
       "      <th>1</th>\n",
       "      <td>3282</td>\n",
       "    </tr>\n",
       "    <tr>\n",
       "      <th rowspan=\"2\" valign=\"top\">4.00</th>\n",
       "      <th>0</th>\n",
       "      <td>9362</td>\n",
       "    </tr>\n",
       "    <tr>\n",
       "      <th>1</th>\n",
       "      <td>1967</td>\n",
       "    </tr>\n",
       "    <tr>\n",
       "      <th rowspan=\"2\" valign=\"top\">5.00</th>\n",
       "      <th>0</th>\n",
       "      <td>4898</td>\n",
       "    </tr>\n",
       "    <tr>\n",
       "      <th>1</th>\n",
       "      <td>1097</td>\n",
       "    </tr>\n",
       "    <tr>\n",
       "      <th rowspan=\"2\" valign=\"top\">6.00</th>\n",
       "      <th>0</th>\n",
       "      <td>2497</td>\n",
       "    </tr>\n",
       "    <tr>\n",
       "      <th>1</th>\n",
       "      <td>613</td>\n",
       "    </tr>\n",
       "    <tr>\n",
       "      <th rowspan=\"2\" valign=\"top\">7.00</th>\n",
       "      <th>0</th>\n",
       "      <td>1282</td>\n",
       "    </tr>\n",
       "    <tr>\n",
       "      <th>1</th>\n",
       "      <td>322</td>\n",
       "    </tr>\n",
       "    <tr>\n",
       "      <th rowspan=\"2\" valign=\"top\">8.00</th>\n",
       "      <th>0</th>\n",
       "      <td>606</td>\n",
       "    </tr>\n",
       "    <tr>\n",
       "      <th>1</th>\n",
       "      <td>183</td>\n",
       "    </tr>\n",
       "    <tr>\n",
       "      <th rowspan=\"2\" valign=\"top\">9.00</th>\n",
       "      <th>0</th>\n",
       "      <td>300</td>\n",
       "    </tr>\n",
       "    <tr>\n",
       "      <th>1</th>\n",
       "      <td>84</td>\n",
       "    </tr>\n",
       "    <tr>\n",
       "      <th rowspan=\"2\" valign=\"top\">10.00</th>\n",
       "      <th>0</th>\n",
       "      <td>122</td>\n",
       "    </tr>\n",
       "    <tr>\n",
       "      <th>1</th>\n",
       "      <td>47</td>\n",
       "    </tr>\n",
       "    <tr>\n",
       "      <th rowspan=\"2\" valign=\"top\">11.00</th>\n",
       "      <th>0</th>\n",
       "      <td>77</td>\n",
       "    </tr>\n",
       "    <tr>\n",
       "      <th>1</th>\n",
       "      <td>20</td>\n",
       "    </tr>\n",
       "    <tr>\n",
       "      <th rowspan=\"2\" valign=\"top\">12.00</th>\n",
       "      <th>0</th>\n",
       "      <td>46</td>\n",
       "    </tr>\n",
       "    <tr>\n",
       "      <th>1</th>\n",
       "      <td>18</td>\n",
       "    </tr>\n",
       "    <tr>\n",
       "      <th rowspan=\"2\" valign=\"top\">13.00</th>\n",
       "      <th>0</th>\n",
       "      <td>23</td>\n",
       "    </tr>\n",
       "    <tr>\n",
       "      <th>1</th>\n",
       "      <td>5</td>\n",
       "    </tr>\n",
       "    <tr>\n",
       "      <th rowspan=\"2\" valign=\"top\">14.00</th>\n",
       "      <th>0</th>\n",
       "      <td>9</td>\n",
       "    </tr>\n",
       "    <tr>\n",
       "      <th>1</th>\n",
       "      <td>3</td>\n",
       "    </tr>\n",
       "    <tr>\n",
       "      <th rowspan=\"2\" valign=\"top\">15.00</th>\n",
       "      <th>0</th>\n",
       "      <td>6</td>\n",
       "    </tr>\n",
       "    <tr>\n",
       "      <th>1</th>\n",
       "      <td>4</td>\n",
       "    </tr>\n",
       "    <tr>\n",
       "      <th rowspan=\"2\" valign=\"top\">16.00</th>\n",
       "      <th>0</th>\n",
       "      <td>1</td>\n",
       "    </tr>\n",
       "    <tr>\n",
       "      <th>1</th>\n",
       "      <td>2</td>\n",
       "    </tr>\n",
       "    <tr>\n",
       "      <th rowspan=\"2\" valign=\"top\">17.00</th>\n",
       "      <th>0</th>\n",
       "      <td>3</td>\n",
       "    </tr>\n",
       "    <tr>\n",
       "      <th>1</th>\n",
       "      <td>2</td>\n",
       "    </tr>\n",
       "    <tr>\n",
       "      <th rowspan=\"2\" valign=\"top\">18.00</th>\n",
       "      <th>0</th>\n",
       "      <td>1</td>\n",
       "    </tr>\n",
       "    <tr>\n",
       "      <th>1</th>\n",
       "      <td>1</td>\n",
       "    </tr>\n",
       "    <tr>\n",
       "      <th rowspan=\"2\" valign=\"top\">19.00</th>\n",
       "      <th>0</th>\n",
       "      <td>2</td>\n",
       "    </tr>\n",
       "    <tr>\n",
       "      <th>1</th>\n",
       "      <td>1</td>\n",
       "    </tr>\n",
       "    <tr>\n",
       "      <th>21.00</th>\n",
       "      <th>1</th>\n",
       "      <td>1</td>\n",
       "    </tr>\n",
       "  </tbody>\n",
       "</table>\n",
       "</div>"
      ],
      "text/plain": [
       "                               client_id\n",
       "credit_count open_account_flg           \n",
       "0.00         0                     17751\n",
       "             1                      2969\n",
       "1.00         0                     30196\n",
       "             1                      5974\n",
       "2.00         0                     24845\n",
       "             1                      4693\n",
       "3.00         0                     15916\n",
       "             1                      3282\n",
       "4.00         0                      9362\n",
       "             1                      1967\n",
       "5.00         0                      4898\n",
       "             1                      1097\n",
       "6.00         0                      2497\n",
       "             1                       613\n",
       "7.00         0                      1282\n",
       "             1                       322\n",
       "8.00         0                       606\n",
       "             1                       183\n",
       "9.00         0                       300\n",
       "             1                        84\n",
       "10.00        0                       122\n",
       "             1                        47\n",
       "11.00        0                        77\n",
       "             1                        20\n",
       "12.00        0                        46\n",
       "             1                        18\n",
       "13.00        0                        23\n",
       "             1                         5\n",
       "14.00        0                         9\n",
       "             1                         3\n",
       "15.00        0                         6\n",
       "             1                         4\n",
       "16.00        0                         1\n",
       "             1                         2\n",
       "17.00        0                         3\n",
       "             1                         2\n",
       "18.00        0                         1\n",
       "             1                         1\n",
       "19.00        0                         2\n",
       "             1                         1\n",
       "21.00        1                         1"
      ]
     },
     "execution_count": 177,
     "metadata": {},
     "output_type": "execute_result"
    }
   ],
   "source": [
    "credit_tn_org.groupby(['credit_count','open_account_flg']).count()['client_id'].to_frame()"
   ]
  },
  {
   "cell_type": "markdown",
   "id": "e31961b7",
   "metadata": {},
   "source": [
    "#### job_position & open_account_flg"
   ]
  },
  {
   "cell_type": "code",
   "execution_count": 178,
   "id": "a86a0934",
   "metadata": {},
   "outputs": [],
   "source": [
    "jb = credit_tn_org.groupby(['job_position','open_account_flg']).count()['client_id'].reset_index()"
   ]
  },
  {
   "cell_type": "code",
   "execution_count": 179,
   "id": "a6140402",
   "metadata": {
    "scrolled": true
   },
   "outputs": [
    {
     "data": {
      "image/png": "[encoded data removed]",
      "text/plain": [
       "<Figure size 720x432 with 1 Axes>"
      ]
     },
     "metadata": {
      "needs_background": "light"
     },
     "output_type": "display_data"
    }
   ],
   "source": [
    "fig,ax = plt.subplots(figsize=(10, 6))\n",
    "ax = sns.barplot(x='job_position',y='client_id',hue='open_account_flg',data=jb)"
   ]
  },
  {
   "cell_type": "markdown",
   "id": "145ac2d1",
   "metadata": {},
   "source": [
    "#### tariff_id & open_account_flg"
   ]
  },
  {
   "cell_type": "code",
   "execution_count": 180,
   "id": "acec18d4",
   "metadata": {
    "scrolled": true
   },
   "outputs": [
    {
     "data": {
      "text/html": [
       "<div>\n",
       "<style scoped>\n",
       "    .dataframe tbody tr th:only-of-type {\n",
       "        vertical-align: middle;\n",
       "    }\n",
       "\n",
       "    .dataframe tbody tr th {\n",
       "        vertical-align: top;\n",
       "    }\n",
       "\n",
       "    .dataframe thead th {\n",
       "        text-align: right;\n",
       "    }\n",
       "</style>\n",
       "<table border=\"1\" class=\"dataframe\">\n",
       "  <thead>\n",
       "    <tr style=\"text-align: right;\">\n",
       "      <th></th>\n",
       "      <th></th>\n",
       "      <th>client_id</th>\n",
       "    </tr>\n",
       "    <tr>\n",
       "      <th>tariff_id</th>\n",
       "      <th>open_account_flg</th>\n",
       "      <th></th>\n",
       "    </tr>\n",
       "  </thead>\n",
       "  <tbody>\n",
       "    <tr>\n",
       "      <th rowspan=\"2\" valign=\"top\">1.00</th>\n",
       "      <th>0</th>\n",
       "      <td>1684</td>\n",
       "    </tr>\n",
       "    <tr>\n",
       "      <th>1</th>\n",
       "      <td>121</td>\n",
       "    </tr>\n",
       "    <tr>\n",
       "      <th rowspan=\"2\" valign=\"top\">1.10</th>\n",
       "      <th>0</th>\n",
       "      <td>44937</td>\n",
       "    </tr>\n",
       "    <tr>\n",
       "      <th>1</th>\n",
       "      <td>10537</td>\n",
       "    </tr>\n",
       "    <tr>\n",
       "      <th rowspan=\"2\" valign=\"top\">1.16</th>\n",
       "      <th>0</th>\n",
       "      <td>2275</td>\n",
       "    </tr>\n",
       "    <tr>\n",
       "      <th>1</th>\n",
       "      <td>268</td>\n",
       "    </tr>\n",
       "    <tr>\n",
       "      <th rowspan=\"2\" valign=\"top\">1.17</th>\n",
       "      <th>0</th>\n",
       "      <td>488</td>\n",
       "    </tr>\n",
       "    <tr>\n",
       "      <th>1</th>\n",
       "      <td>102</td>\n",
       "    </tr>\n",
       "    <tr>\n",
       "      <th rowspan=\"2\" valign=\"top\">1.18</th>\n",
       "      <th>0</th>\n",
       "      <td>2</td>\n",
       "    </tr>\n",
       "    <tr>\n",
       "      <th>1</th>\n",
       "      <td>24</td>\n",
       "    </tr>\n",
       "    <tr>\n",
       "      <th rowspan=\"2\" valign=\"top\">1.19</th>\n",
       "      <th>0</th>\n",
       "      <td>1502</td>\n",
       "    </tr>\n",
       "    <tr>\n",
       "      <th>1</th>\n",
       "      <td>191</td>\n",
       "    </tr>\n",
       "    <tr>\n",
       "      <th rowspan=\"2\" valign=\"top\">1.20</th>\n",
       "      <th>0</th>\n",
       "      <td>950</td>\n",
       "    </tr>\n",
       "    <tr>\n",
       "      <th>1</th>\n",
       "      <td>103</td>\n",
       "    </tr>\n",
       "    <tr>\n",
       "      <th rowspan=\"2\" valign=\"top\">1.21</th>\n",
       "      <th>0</th>\n",
       "      <td>441</td>\n",
       "    </tr>\n",
       "    <tr>\n",
       "      <th>1</th>\n",
       "      <td>16</td>\n",
       "    </tr>\n",
       "    <tr>\n",
       "      <th rowspan=\"2\" valign=\"top\">1.22</th>\n",
       "      <th>0</th>\n",
       "      <td>282</td>\n",
       "    </tr>\n",
       "    <tr>\n",
       "      <th>1</th>\n",
       "      <td>10</td>\n",
       "    </tr>\n",
       "    <tr>\n",
       "      <th rowspan=\"2\" valign=\"top\">1.23</th>\n",
       "      <th>0</th>\n",
       "      <td>269</td>\n",
       "    </tr>\n",
       "    <tr>\n",
       "      <th>1</th>\n",
       "      <td>13</td>\n",
       "    </tr>\n",
       "    <tr>\n",
       "      <th rowspan=\"2\" valign=\"top\">1.24</th>\n",
       "      <th>0</th>\n",
       "      <td>205</td>\n",
       "    </tr>\n",
       "    <tr>\n",
       "      <th>1</th>\n",
       "      <td>40</td>\n",
       "    </tr>\n",
       "    <tr>\n",
       "      <th rowspan=\"2\" valign=\"top\">1.25</th>\n",
       "      <th>0</th>\n",
       "      <td>34</td>\n",
       "    </tr>\n",
       "    <tr>\n",
       "      <th>1</th>\n",
       "      <td>10</td>\n",
       "    </tr>\n",
       "    <tr>\n",
       "      <th rowspan=\"2\" valign=\"top\">1.26</th>\n",
       "      <th>0</th>\n",
       "      <td>5</td>\n",
       "    </tr>\n",
       "    <tr>\n",
       "      <th>1</th>\n",
       "      <td>1</td>\n",
       "    </tr>\n",
       "    <tr>\n",
       "      <th>1.27</th>\n",
       "      <th>0</th>\n",
       "      <td>5</td>\n",
       "    </tr>\n",
       "    <tr>\n",
       "      <th>1.28</th>\n",
       "      <th>0</th>\n",
       "      <td>9</td>\n",
       "    </tr>\n",
       "    <tr>\n",
       "      <th>1.29</th>\n",
       "      <th>1</th>\n",
       "      <td>1</td>\n",
       "    </tr>\n",
       "    <tr>\n",
       "      <th rowspan=\"2\" valign=\"top\">1.30</th>\n",
       "      <th>0</th>\n",
       "      <td>1863</td>\n",
       "    </tr>\n",
       "    <tr>\n",
       "      <th>1</th>\n",
       "      <td>792</td>\n",
       "    </tr>\n",
       "    <tr>\n",
       "      <th rowspan=\"2\" valign=\"top\">1.32</th>\n",
       "      <th>0</th>\n",
       "      <td>7700</td>\n",
       "    </tr>\n",
       "    <tr>\n",
       "      <th>1</th>\n",
       "      <td>4760</td>\n",
       "    </tr>\n",
       "    <tr>\n",
       "      <th rowspan=\"2\" valign=\"top\">1.40</th>\n",
       "      <th>0</th>\n",
       "      <td>7761</td>\n",
       "    </tr>\n",
       "    <tr>\n",
       "      <th>1</th>\n",
       "      <td>981</td>\n",
       "    </tr>\n",
       "    <tr>\n",
       "      <th rowspan=\"2\" valign=\"top\">1.41</th>\n",
       "      <th>0</th>\n",
       "      <td>87</td>\n",
       "    </tr>\n",
       "    <tr>\n",
       "      <th>1</th>\n",
       "      <td>23</td>\n",
       "    </tr>\n",
       "    <tr>\n",
       "      <th rowspan=\"2\" valign=\"top\">1.43</th>\n",
       "      <th>0</th>\n",
       "      <td>2780</td>\n",
       "    </tr>\n",
       "    <tr>\n",
       "      <th>1</th>\n",
       "      <td>379</td>\n",
       "    </tr>\n",
       "    <tr>\n",
       "      <th rowspan=\"2\" valign=\"top\">1.44</th>\n",
       "      <th>0</th>\n",
       "      <td>1560</td>\n",
       "    </tr>\n",
       "    <tr>\n",
       "      <th>1</th>\n",
       "      <td>220</td>\n",
       "    </tr>\n",
       "    <tr>\n",
       "      <th>1.48</th>\n",
       "      <th>0</th>\n",
       "      <td>5</td>\n",
       "    </tr>\n",
       "    <tr>\n",
       "      <th rowspan=\"2\" valign=\"top\">1.50</th>\n",
       "      <th>0</th>\n",
       "      <td>5429</td>\n",
       "    </tr>\n",
       "    <tr>\n",
       "      <th>1</th>\n",
       "      <td>585</td>\n",
       "    </tr>\n",
       "    <tr>\n",
       "      <th>1.52</th>\n",
       "      <th>0</th>\n",
       "      <td>4</td>\n",
       "    </tr>\n",
       "    <tr>\n",
       "      <th>1.56</th>\n",
       "      <th>0</th>\n",
       "      <td>2</td>\n",
       "    </tr>\n",
       "    <tr>\n",
       "      <th rowspan=\"2\" valign=\"top\">1.60</th>\n",
       "      <th>0</th>\n",
       "      <td>26887</td>\n",
       "    </tr>\n",
       "    <tr>\n",
       "      <th>1</th>\n",
       "      <td>4389</td>\n",
       "    </tr>\n",
       "    <tr>\n",
       "      <th rowspan=\"2\" valign=\"top\">1.70</th>\n",
       "      <th>0</th>\n",
       "      <td>744</td>\n",
       "    </tr>\n",
       "    <tr>\n",
       "      <th>1</th>\n",
       "      <td>87</td>\n",
       "    </tr>\n",
       "    <tr>\n",
       "      <th rowspan=\"2\" valign=\"top\">1.90</th>\n",
       "      <th>0</th>\n",
       "      <td>4167</td>\n",
       "    </tr>\n",
       "    <tr>\n",
       "      <th>1</th>\n",
       "      <td>296</td>\n",
       "    </tr>\n",
       "    <tr>\n",
       "      <th rowspan=\"2\" valign=\"top\">1.91</th>\n",
       "      <th>0</th>\n",
       "      <td>193</td>\n",
       "    </tr>\n",
       "    <tr>\n",
       "      <th>1</th>\n",
       "      <td>63</td>\n",
       "    </tr>\n",
       "    <tr>\n",
       "      <th rowspan=\"2\" valign=\"top\">1.94</th>\n",
       "      <th>0</th>\n",
       "      <td>281</td>\n",
       "    </tr>\n",
       "    <tr>\n",
       "      <th>1</th>\n",
       "      <td>33</td>\n",
       "    </tr>\n",
       "  </tbody>\n",
       "</table>\n",
       "</div>"
      ],
      "text/plain": [
       "                            client_id\n",
       "tariff_id open_account_flg           \n",
       "1.00      0                      1684\n",
       "          1                       121\n",
       "1.10      0                     44937\n",
       "          1                     10537\n",
       "1.16      0                      2275\n",
       "          1                       268\n",
       "1.17      0                       488\n",
       "          1                       102\n",
       "1.18      0                         2\n",
       "          1                        24\n",
       "1.19      0                      1502\n",
       "          1                       191\n",
       "1.20      0                       950\n",
       "          1                       103\n",
       "1.21      0                       441\n",
       "          1                        16\n",
       "1.22      0                       282\n",
       "          1                        10\n",
       "1.23      0                       269\n",
       "          1                        13\n",
       "1.24      0                       205\n",
       "          1                        40\n",
       "1.25      0                        34\n",
       "          1                        10\n",
       "1.26      0                         5\n",
       "          1                         1\n",
       "1.27      0                         5\n",
       "1.28      0                         9\n",
       "1.29      1                         1\n",
       "1.30      0                      1863\n",
       "          1                       792\n",
       "1.32      0                      7700\n",
       "          1                      4760\n",
       "1.40      0                      7761\n",
       "          1                       981\n",
       "1.41      0                        87\n",
       "          1                        23\n",
       "1.43      0                      2780\n",
       "          1                       379\n",
       "1.44      0                      1560\n",
       "          1                       220\n",
       "1.48      0                         5\n",
       "1.50      0                      5429\n",
       "          1                       585\n",
       "1.52      0                         4\n",
       "1.56      0                         2\n",
       "1.60      0                     26887\n",
       "          1                      4389\n",
       "1.70      0                       744\n",
       "          1                        87\n",
       "1.90      0                      4167\n",
       "          1                       296\n",
       "1.91      0                       193\n",
       "          1                        63\n",
       "1.94      0                       281\n",
       "          1                        33"
      ]
     },
     "execution_count": 180,
     "metadata": {},
     "output_type": "execute_result"
    }
   ],
   "source": [
    "credit_tn_org.groupby(['tariff_id','open_account_flg']).count()['client_id'].to_frame()"
   ]
  },
  {
   "cell_type": "markdown",
   "id": "057fc2b1",
   "metadata": {},
   "source": [
    "#### Gender & open_account_flg"
   ]
  },
  {
   "cell_type": "code",
   "execution_count": 181,
   "id": "3bdbdf27",
   "metadata": {},
   "outputs": [
    {
     "data": {
      "text/html": [
       "<div>\n",
       "<style scoped>\n",
       "    .dataframe tbody tr th:only-of-type {\n",
       "        vertical-align: middle;\n",
       "    }\n",
       "\n",
       "    .dataframe tbody tr th {\n",
       "        vertical-align: top;\n",
       "    }\n",
       "\n",
       "    .dataframe thead th {\n",
       "        text-align: right;\n",
       "    }\n",
       "</style>\n",
       "<table border=\"1\" class=\"dataframe\">\n",
       "  <thead>\n",
       "    <tr style=\"text-align: right;\">\n",
       "      <th></th>\n",
       "      <th></th>\n",
       "      <th>client_id</th>\n",
       "    </tr>\n",
       "    <tr>\n",
       "      <th>gender</th>\n",
       "      <th>open_account_flg</th>\n",
       "      <th></th>\n",
       "    </tr>\n",
       "  </thead>\n",
       "  <tbody>\n",
       "    <tr>\n",
       "      <th rowspan=\"2\" valign=\"top\">F</th>\n",
       "      <th>0</th>\n",
       "      <td>59589</td>\n",
       "    </tr>\n",
       "    <tr>\n",
       "      <th>1</th>\n",
       "      <td>11366</td>\n",
       "    </tr>\n",
       "    <tr>\n",
       "      <th rowspan=\"2\" valign=\"top\">M</th>\n",
       "      <th>0</th>\n",
       "      <td>52962</td>\n",
       "    </tr>\n",
       "    <tr>\n",
       "      <th>1</th>\n",
       "      <td>12679</td>\n",
       "    </tr>\n",
       "  </tbody>\n",
       "</table>\n",
       "</div>"
      ],
      "text/plain": [
       "                         client_id\n",
       "gender open_account_flg           \n",
       "F      0                     59589\n",
       "       1                     11366\n",
       "M      0                     52962\n",
       "       1                     12679"
      ]
     },
     "execution_count": 181,
     "metadata": {},
     "output_type": "execute_result"
    }
   ],
   "source": [
    "credit_tn_org.groupby(['gender','open_account_flg']).count()['client_id'].to_frame()"
   ]
  },
  {
   "cell_type": "code",
   "execution_count": 182,
   "id": "2ab518ec",
   "metadata": {},
   "outputs": [
    {
     "data": {
      "text/plain": [
       "M   0.53\n",
       "F   0.47\n",
       "Name: gender, dtype: float64"
      ]
     },
     "execution_count": 182,
     "metadata": {},
     "output_type": "execute_result"
    }
   ],
   "source": [
    "credit_tn_org.loc[credit_tn_org['open_account_flg']==1]['gender'].value_counts(normalize=True)"
   ]
  },
  {
   "cell_type": "code",
   "execution_count": 183,
   "id": "b088084b",
   "metadata": {},
   "outputs": [
    {
     "data": {
      "text/plain": [
       "F   0.53\n",
       "M   0.47\n",
       "Name: gender, dtype: float64"
      ]
     },
     "execution_count": 183,
     "metadata": {},
     "output_type": "execute_result"
    }
   ],
   "source": [
    "credit_tn_org.loc[credit_tn_org['open_account_flg']==0]['gender'].value_counts(normalize=True)"
   ]
  },
  {
   "cell_type": "markdown",
   "id": "93e015b6",
   "metadata": {},
   "source": [
    "#### living_region - clients most accepted and rejected usage of credit"
   ]
  },
  {
   "cell_type": "code",
   "execution_count": 184,
   "id": "27276c04",
   "metadata": {},
   "outputs": [],
   "source": [
    "credit_tn_org['living_region'].fillna('НЕИЗВЕСТНО', inplace=True)\n",
    "credit_tn_org['living_region_cleaned'] = credit_tn_org['living_region'].apply(change_living)"
   ]
  },
  {
   "cell_type": "code",
   "execution_count": 185,
   "id": "57d9a8a9",
   "metadata": {},
   "outputs": [
    {
     "data": {
      "text/plain": [
       "living_region_cleaned\n",
       "МОСКОВСКАЯ        1811\n",
       "МОСКВА            1530\n",
       "КРАСНОДАРСКИЙ     1317\n",
       "САНКТПЕТЕРБУРГ     974\n",
       "СВЕРДЛОВСКАЯ       964\n",
       "ТАТАРСТАН          898\n",
       "ЧЕЛЯБИНСКАЯ        786\n",
       "БАШКОРТОСТАН       743\n",
       "ИРКУТСКАЯ          741\n",
       "РОСТОВСКАЯ         686\n",
       "Name: client_id, dtype: int64"
      ]
     },
     "execution_count": 185,
     "metadata": {},
     "output_type": "execute_result"
    }
   ],
   "source": [
    "# accepted\n",
    "credit_tn_org.loc[credit_tn_org['open_account_flg']==1].groupby('living_region_cleaned').count()['client_id'].nlargest(10)"
   ]
  },
  {
   "cell_type": "code",
   "execution_count": 186,
   "id": "4c6787f6",
   "metadata": {},
   "outputs": [
    {
     "data": {
      "text/plain": [
       "living_region_cleaned\n",
       "МОСКОВСКАЯ        8485\n",
       "МОСКВА            5849\n",
       "САНКТПЕТЕРБУРГ    5701\n",
       "КРАСНОДАРСКИЙ     5313\n",
       "ТАТАРСТАН         5216\n",
       "СВЕРДЛОВСКАЯ      4933\n",
       "БАШКОРТОСТАН      4437\n",
       "САМАРСКАЯ         3574\n",
       "ЧЕЛЯБИНСКАЯ       3369\n",
       "СТАВРОПОЛЬСКИЙ    3327\n",
       "Name: client_id, dtype: int64"
      ]
     },
     "execution_count": 186,
     "metadata": {},
     "output_type": "execute_result"
    }
   ],
   "source": [
    "# rejected\n",
    "credit_tn_org.loc[credit_tn_org['open_account_flg']==0].groupby('living_region_cleaned').count()['client_id'].nlargest(10)"
   ]
  },
  {
   "cell_type": "markdown",
   "id": "b6aa7de9",
   "metadata": {},
   "source": [
    "### Checking for missing values"
   ]
  },
  {
   "cell_type": "code",
   "execution_count": 187,
   "id": "fab18cca",
   "metadata": {},
   "outputs": [
    {
     "data": {
      "text/html": [
       "<div>\n",
       "<style scoped>\n",
       "    .dataframe tbody tr th:only-of-type {\n",
       "        vertical-align: middle;\n",
       "    }\n",
       "\n",
       "    .dataframe tbody tr th {\n",
       "        vertical-align: top;\n",
       "    }\n",
       "\n",
       "    .dataframe thead th {\n",
       "        text-align: right;\n",
       "    }\n",
       "</style>\n",
       "<table border=\"1\" class=\"dataframe\">\n",
       "  <thead>\n",
       "    <tr style=\"text-align: right;\">\n",
       "      <th></th>\n",
       "      <th>client_id</th>\n",
       "      <th>gender</th>\n",
       "      <th>age</th>\n",
       "      <th>marital_status</th>\n",
       "      <th>job_position</th>\n",
       "      <th>credit_sum</th>\n",
       "      <th>credit_month</th>\n",
       "      <th>tariff_id</th>\n",
       "      <th>score_shk</th>\n",
       "      <th>education</th>\n",
       "      <th>living_region</th>\n",
       "      <th>monthly_income</th>\n",
       "      <th>credit_count</th>\n",
       "      <th>overdue_credit_count</th>\n",
       "      <th>test</th>\n",
       "    </tr>\n",
       "  </thead>\n",
       "  <tbody>\n",
       "    <tr>\n",
       "      <th>0</th>\n",
       "      <td>52372</td>\n",
       "      <td>M</td>\n",
       "      <td>38</td>\n",
       "      <td>MAR</td>\n",
       "      <td>SPC</td>\n",
       "      <td>12168,00</td>\n",
       "      <td>10</td>\n",
       "      <td>1.10</td>\n",
       "      <td>0,308454</td>\n",
       "      <td>GRD</td>\n",
       "      <td>ОБЛ ВОЛОГОДСКАЯ</td>\n",
       "      <td>25000.00</td>\n",
       "      <td>0.00</td>\n",
       "      <td>0.00</td>\n",
       "      <td>False</td>\n",
       "    </tr>\n",
       "    <tr>\n",
       "      <th>1</th>\n",
       "      <td>75213</td>\n",
       "      <td>F</td>\n",
       "      <td>36</td>\n",
       "      <td>MAR</td>\n",
       "      <td>SPC</td>\n",
       "      <td>17738,00</td>\n",
       "      <td>10</td>\n",
       "      <td>1.10</td>\n",
       "      <td>0,498147</td>\n",
       "      <td>GRD</td>\n",
       "      <td>ОБЛ БЕЛГОРОДСКАЯ</td>\n",
       "      <td>25000.00</td>\n",
       "      <td>4.00</td>\n",
       "      <td>0.00</td>\n",
       "      <td>False</td>\n",
       "    </tr>\n",
       "    <tr>\n",
       "      <th>2</th>\n",
       "      <td>119931</td>\n",
       "      <td>M</td>\n",
       "      <td>23</td>\n",
       "      <td>UNM</td>\n",
       "      <td>SPC</td>\n",
       "      <td>26489,00</td>\n",
       "      <td>10</td>\n",
       "      <td>1.10</td>\n",
       "      <td>0,431980</td>\n",
       "      <td>SCH</td>\n",
       "      <td>ЧЕЛЯБИНСКАЯ ОБЛ</td>\n",
       "      <td>25000.00</td>\n",
       "      <td>NaN</td>\n",
       "      <td>NaN</td>\n",
       "      <td>False</td>\n",
       "    </tr>\n",
       "    <tr>\n",
       "      <th>3</th>\n",
       "      <td>134365</td>\n",
       "      <td>M</td>\n",
       "      <td>24</td>\n",
       "      <td>UNM</td>\n",
       "      <td>SPC</td>\n",
       "      <td>20379,00</td>\n",
       "      <td>12</td>\n",
       "      <td>1.60</td>\n",
       "      <td>0,770546</td>\n",
       "      <td>GRD</td>\n",
       "      <td>РЕСП КАРАЧАЕВО-ЧЕРКЕССКАЯ</td>\n",
       "      <td>50000.00</td>\n",
       "      <td>NaN</td>\n",
       "      <td>NaN</td>\n",
       "      <td>False</td>\n",
       "    </tr>\n",
       "    <tr>\n",
       "      <th>4</th>\n",
       "      <td>138695</td>\n",
       "      <td>F</td>\n",
       "      <td>47</td>\n",
       "      <td>MAR</td>\n",
       "      <td>SPC</td>\n",
       "      <td>12019,00</td>\n",
       "      <td>10</td>\n",
       "      <td>1.60</td>\n",
       "      <td>0,617275</td>\n",
       "      <td>SCH</td>\n",
       "      <td>УЛЬЯНОВСКАЯ ОБЛ</td>\n",
       "      <td>18000.00</td>\n",
       "      <td>0.00</td>\n",
       "      <td>0.00</td>\n",
       "      <td>False</td>\n",
       "    </tr>\n",
       "  </tbody>\n",
       "</table>\n",
       "</div>"
      ],
      "text/plain": [
       "   client_id gender  age marital_status job_position credit_sum  credit_month  \\\n",
       "0      52372      M   38            MAR          SPC   12168,00            10   \n",
       "1      75213      F   36            MAR          SPC   17738,00            10   \n",
       "2     119931      M   23            UNM          SPC   26489,00            10   \n",
       "3     134365      M   24            UNM          SPC   20379,00            12   \n",
       "4     138695      F   47            MAR          SPC   12019,00            10   \n",
       "\n",
       "   tariff_id score_shk education              living_region  monthly_income  \\\n",
       "0       1.10  0,308454       GRD            ОБЛ ВОЛОГОДСКАЯ        25000.00   \n",
       "1       1.10  0,498147       GRD           ОБЛ БЕЛГОРОДСКАЯ        25000.00   \n",
       "2       1.10  0,431980       SCH            ЧЕЛЯБИНСКАЯ ОБЛ        25000.00   \n",
       "3       1.60  0,770546       GRD  РЕСП КАРАЧАЕВО-ЧЕРКЕССКАЯ        50000.00   \n",
       "4       1.60  0,617275       SCH            УЛЬЯНОВСКАЯ ОБЛ        18000.00   \n",
       "\n",
       "   credit_count  overdue_credit_count   test  \n",
       "0          0.00                  0.00  False  \n",
       "1          4.00                  0.00  False  \n",
       "2           NaN                   NaN  False  \n",
       "3           NaN                   NaN  False  \n",
       "4          0.00                  0.00  False  "
      ]
     },
     "execution_count": 187,
     "metadata": {},
     "output_type": "execute_result"
    }
   ],
   "source": [
    "credit_all.head()"
   ]
  },
  {
   "cell_type": "code",
   "execution_count": 188,
   "id": "d7914773",
   "metadata": {},
   "outputs": [
    {
     "data": {
      "text/html": [
       "<div>\n",
       "<style scoped>\n",
       "    .dataframe tbody tr th:only-of-type {\n",
       "        vertical-align: middle;\n",
       "    }\n",
       "\n",
       "    .dataframe tbody tr th {\n",
       "        vertical-align: top;\n",
       "    }\n",
       "\n",
       "    .dataframe thead th {\n",
       "        text-align: right;\n",
       "    }\n",
       "</style>\n",
       "<table border=\"1\" class=\"dataframe\">\n",
       "  <thead>\n",
       "    <tr style=\"text-align: right;\">\n",
       "      <th></th>\n",
       "      <th>missing in %</th>\n",
       "      <th>missing in count</th>\n",
       "    </tr>\n",
       "  </thead>\n",
       "  <tbody>\n",
       "    <tr>\n",
       "      <th>living_region</th>\n",
       "      <td>0.11</td>\n",
       "      <td>192</td>\n",
       "    </tr>\n",
       "    <tr>\n",
       "      <th>monthly_income</th>\n",
       "      <td>0.00</td>\n",
       "      <td>1</td>\n",
       "    </tr>\n",
       "    <tr>\n",
       "      <th>credit_count</th>\n",
       "      <td>5.41</td>\n",
       "      <td>9230</td>\n",
       "    </tr>\n",
       "    <tr>\n",
       "      <th>overdue_credit_count</th>\n",
       "      <td>5.41</td>\n",
       "      <td>9230</td>\n",
       "    </tr>\n",
       "  </tbody>\n",
       "</table>\n",
       "</div>"
      ],
      "text/plain": [
       "                      missing in %  missing in count\n",
       "living_region                 0.11               192\n",
       "monthly_income                0.00                 1\n",
       "credit_count                  5.41              9230\n",
       "overdue_credit_count          5.41              9230"
      ]
     },
     "execution_count": 188,
     "metadata": {},
     "output_type": "execute_result"
    }
   ],
   "source": [
    "missing_v_c(credit_all)"
   ]
  },
  {
   "cell_type": "markdown",
   "id": "6c1e5dcf",
   "metadata": {},
   "source": [
    "### Cat. features "
   ]
  },
  {
   "cell_type": "code",
   "execution_count": 189,
   "id": "b6c82206",
   "metadata": {},
   "outputs": [
    {
     "name": "stdout",
     "output_type": "stream",
     "text": [
      "<class 'pandas.core.frame.DataFrame'>\n",
      "Int64Index: 170746 entries, 0 to 34149\n",
      "Data columns (total 15 columns):\n",
      " #   Column                Non-Null Count   Dtype  \n",
      "---  ------                --------------   -----  \n",
      " 0   client_id             170746 non-null  int64  \n",
      " 1   gender                170746 non-null  object \n",
      " 2   age                   170746 non-null  int64  \n",
      " 3   marital_status        170746 non-null  object \n",
      " 4   job_position          170746 non-null  object \n",
      " 5   credit_sum            170746 non-null  object \n",
      " 6   credit_month          170746 non-null  int64  \n",
      " 7   tariff_id             170746 non-null  float64\n",
      " 8   score_shk             170746 non-null  object \n",
      " 9   education             170746 non-null  object \n",
      " 10  living_region         170554 non-null  object \n",
      " 11  monthly_income        170745 non-null  float64\n",
      " 12  credit_count          161516 non-null  float64\n",
      " 13  overdue_credit_count  161516 non-null  float64\n",
      " 14  test                  170746 non-null  bool   \n",
      "dtypes: bool(1), float64(4), int64(3), object(7)\n",
      "memory usage: 19.7+ MB\n"
     ]
    }
   ],
   "source": [
    "credit_all.info()"
   ]
  },
  {
   "cell_type": "code",
   "execution_count": 190,
   "id": "85b7f4c4",
   "metadata": {},
   "outputs": [],
   "source": [
    "# changing the comma separation to dot separation \n",
    "for i in credit_all.columns:\n",
    "    if pd.api.types.is_object_dtype(credit_all[i]):\n",
    "        try:\n",
    "            credit_all[i]=credit_all[i].str.replace(',','.').astype('float')\n",
    "        except:\n",
    "            pass"
   ]
  },
  {
   "cell_type": "code",
   "execution_count": 191,
   "id": "dd942574",
   "metadata": {},
   "outputs": [
    {
     "name": "stdout",
     "output_type": "stream",
     "text": [
      "Filled 192 missing values with \"Unknown\"\n"
     ]
    }
   ],
   "source": [
    "# We can delete 154 missing values from column \"living_region\". But I've decided to keep them\n",
    "# credit_tn.dropna(subset=['living_region'],inplace=True)\n",
    "\n",
    "print(f'''Filled {credit_all['living_region'].isnull().sum()} missing values with \"Unknown\"''')\n",
    "credit_all['living_region'].fillna('НЕИЗВЕСТНО', inplace=True)"
   ]
  },
  {
   "cell_type": "code",
   "execution_count": 192,
   "id": "6efcc865",
   "metadata": {
    "scrolled": true
   },
   "outputs": [
    {
     "data": {
      "text/plain": [
       "array(['ОБЛ ВОЛОГОДСКАЯ', 'ОБЛ БЕЛГОРОДСКАЯ', 'ЧЕЛЯБИНСКАЯ ОБЛ',\n",
       "       'РЕСП КАРАЧАЕВО-ЧЕРКЕССКАЯ', 'УЛЬЯНОВСКАЯ ОБЛ',\n",
       "       'КРАЙ СТАВРОПОЛЬСКИЙ', 'САНКТ-ПЕТЕРБУРГ Г', 'ОМСКАЯ ОБЛ',\n",
       "       'ОБЛ КАЛУЖСКАЯ', 'ОБЛ ТВЕРСКАЯ', 'РЕСП БАШКОРТОСТАН',\n",
       "       'ОБЛ НИЖЕГОРОДСКАЯ', 'ТЫВА РЕСП', 'СВЕРДЛОВСКАЯ ОБЛ',\n",
       "       'САХА /ЯКУТИЯ/ РЕСП', 'КРАЙ КАМЧАТСКИЙ', 'РЕСП КАРЕЛИЯ',\n",
       "       'ТАМБОВСКАЯ ОБЛ', 'РЕСПУБЛИКА ТАТАРСТАН', 'Г. САНКТ-ПЕТЕРБУРГ',\n",
       "       'ЛЕНИНГРАДСКАЯ ОБЛАСТЬ', 'ТВЕРСКАЯ ОБЛ', 'РОСТОВСКАЯ ОБЛ',\n",
       "       'ПЕРМСКИЙ КРАЙ', 'ТАТАРСТАН РЕСП', 'МОСКВА', 'РЕСП. БАШКОРТОСТАН',\n",
       "       'ПСКОВСКАЯ ОБЛАСТЬ', 'ОБЛ ВОРОНЕЖСКАЯ', 'КРАСНОДАРСКИЙ КРАЙ',\n",
       "       'САНКТ-ПЕТЕРБУРГ', 'ОБЛ МУРМАНСКАЯ', 'МОСКВА Г', 'ХАКАСИЯ РЕСП',\n",
       "       'КРАСНОЯРСКИЙ КРАЙ', 'ОБЛ КУРСКАЯ', 'КРАЙ ПЕРМСКИЙ',\n",
       "       'ХАБАРОВСКИЙ КРАЙ', 'САМАРСКАЯ ОБЛАСТЬ', 'ОБЛ ЛИПЕЦКАЯ',\n",
       "       'ЧУВАШСКАЯ РЕСПУБЛИКА', 'ОБЛ МОСКОВСКАЯ', 'ОРЛОВСКАЯ ОБЛ',\n",
       "       'САХАЛИНСКАЯ ОБЛ', 'ОБЛ КЕМЕРОВСКАЯ', 'ЯМАЛО-НЕНЕЦКИЙ АО',\n",
       "       'ОБЛ АСТРАХАНСКАЯ', 'СЕВ. ОСЕТИЯ - АЛАНИЯ', 'ОБЛ ВЛАДИМИРСКАЯ',\n",
       "       'ХАНТЫ-МАНСИЙСКИЙ АО', 'СВЕРДЛОВСКАЯ ОБЛАСТЬ', 'РЕСП КОМИ',\n",
       "       'СТАВРОПОЛЬСКИЙ КРАЙ', 'ОБЛ НОВОСИБИРСКАЯ', 'ОБЛ ЛЕНИНГРАДСКАЯ',\n",
       "       'ХАНТЫ-МАНСИЙСКИЙ АВТОНОМНЫЙ ОКРУГ - ЮГРА', 'ПСКОВСКАЯ ОБЛ',\n",
       "       'ОБЛ КАЛИНИНГРАДСКАЯ', 'РЕСП МОРДОВИЯ', 'РЕСПУБЛИКА БУРЯТИЯ',\n",
       "       'ОБЛ ИРКУТСКАЯ', 'УДМУРТСКАЯ РЕСП', 'ЕВРЕЙСКАЯ АОБЛ',\n",
       "       'РЕСП КАБАРДИНО-БАЛКАРСКАЯ', 'ЧЕЛЯБИНСКАЯ ОБЛАСТЬ',\n",
       "       'РЕСПУБЛИКА МАРИЙ ЭЛ', 'ПЕНЗЕНСКАЯ ОБЛ', 'ОБЛ САМАРСКАЯ',\n",
       "       'ОБЛ АМУРСКАЯ', 'РОСТОВСКАЯ ОБЛАСТЬ', 'ОБЛ ВОЛГОГРАДСКАЯ',\n",
       "       'ОБЛ ЧЕЛЯБИНСКАЯ', 'РЕСП АДЫГЕЯ', 'ЯРОСЛАВСКАЯ ОБЛ',\n",
       "       'ТЮМЕНСКАЯ ОБЛ', 'ВОЛГОГРАДСКАЯ ОБЛ', 'ОРЕНБУРГСКАЯ ОБЛ',\n",
       "       'ТВЕРСКАЯ ОБЛАСТЬ', 'ОБЛ КУРГАНСКАЯ', 'САРАТОВСКАЯ ОБЛ',\n",
       "       'ОБЛ ИВАНОВСКАЯ', 'ЧУВАШСКАЯ - ЧУВАШИЯ РЕСП', 'АМУРСКАЯ ОБЛАСТЬ',\n",
       "       'РЕСП. САХА (ЯКУТИЯ)', 'ИРКУТСКАЯ ОБЛАСТЬ', 'ОБЛ МАГАДАНСКАЯ',\n",
       "       'ТЮМЕНСКАЯ ОБЛАСТЬ', 'РЕСП БУРЯТИЯ', 'РЕСПУБЛИКА КОМИ',\n",
       "       'АО ЯМАЛО-НЕНЕЦКИЙ', 'ТУЛЬСКАЯ ОБЛ', 'КЕМЕРОВСКАЯ ОБЛ',\n",
       "       'ЯРОСЛАВСКАЯ ОБЛАСТЬ', 'РЕСПУБЛИКА МОРДОВИЯ',\n",
       "       'АО ХАНТЫ-МАНСИЙСКИЙ АВТОНОМНЫЙ ОКРУГ - Ю', 'РЯЗАНСКАЯ ОБЛ',\n",
       "       'ОБЛ ОРЛОВСКАЯ', 'ОБЛ САРАТОВСКАЯ', 'ОРЛОВСКАЯ ОБЛАСТЬ',\n",
       "       'КРАЙ КРАСНОДАРСКИЙ', 'ОБЛ САХАЛИНСКАЯ', 'КОМИ РЕСП',\n",
       "       'РЕСП МАРИЙ ЭЛ', 'КРАЙ ЗАБАЙКАЛЬСКИЙ', 'ОБЛ СВЕРДЛОВСКАЯ',\n",
       "       'ОРЕНБУРГСКАЯ ОБЛАСТЬ', 'ОБЛ УЛЬЯНОВСКАЯ', 'НОВОСИБИРСКАЯ',\n",
       "       'ТУЛЬСКАЯ ОБЛАСТЬ', 'СМОЛЕНСКАЯ ОБЛ', 'РЕСПУБЛИКА АДЫГЕЯ',\n",
       "       'УЛЬЯНОВСКАЯ ОБЛАСТЬ', 'ОБЛ ПСКОВСКАЯ', 'БАШКОРТОСТАН РЕСП',\n",
       "       'ОБЛ НОВГОРОДСКАЯ', 'ОБЛ ОРЕНБУРГСКАЯ', 'ОБЛ АРХАНГЕЛЬСКАЯ',\n",
       "       'НОВГОРОДСКАЯ ОБЛ', 'ЕВРЕЙСКАЯ АВТОНОМНАЯ', 'МОСКОВСКАЯ ОБЛАСТЬ',\n",
       "       'РЕСП ИНГУШЕТИЯ', 'ПЕНЗЕНСКАЯ ОБЛАСТЬ', 'КРАЙ ПРИМОРСКИЙ',\n",
       "       'СМОЛЕНСКАЯ ОБЛАСТЬ', 'ОБЛ ТЮМЕНСКАЯ', 'РЯЗАНСКАЯ ОБЛАСТЬ',\n",
       "       'КРАЙ АЛТАЙСКИЙ', 'ТАМБОВСКАЯ ОБЛАСТЬ', 'ОБЛ КОСТРОМСКАЯ',\n",
       "       'ОБЛ КИРОВСКАЯ', 'ТОМСКАЯ ОБЛАСТЬ', 'УДМУРТСКАЯ РЕСПУБЛИКА',\n",
       "       'СЕВЕРНАЯ ОСЕТИЯ - АЛАНИЯ РЕСП', 'САРАТОВСКАЯ ОБЛАСТЬ',\n",
       "       'ЧУВАШСКАЯ РЕСПУБЛИКА - ЧУВАШИЯ', 'КЕМЕРОВСКАЯ ОБЛАСТЬ',\n",
       "       'РЕСП САХА /ЯКУТИЯ/', 'САХАЛИНСКАЯ ОБЛАСТЬ', 'ОБЛ РОСТОВСКАЯ',\n",
       "       'САМАРСКАЯ ОБЛ', 'ЛЕНИНГРАДСКАЯ ОБЛ', 'ОМСКАЯ ОБЛАСТЬ',\n",
       "       'АСТРАХАНСКАЯ ОБЛАСТЬ', 'ПРИМОРСКИЙ КРАЙ', 'КРАЙ КРАСНОЯРСКИЙ',\n",
       "       'ОБЛ БРЯНСКАЯ', 'ТОМСКАЯ ОБЛ', 'РЕСПУБЛИКА КАЛМЫКИЯ',\n",
       "       'НИЖЕГОРОДСКАЯ ОБЛ', 'КУРСКАЯ ОБЛ', 'ГОРЬКОВСКАЯ ОБЛ',\n",
       "       'РЕСП ТАТАРСТАН', 'КИРОВСКАЯ ОБЛ', 'ПЕРМСКАЯ ОБЛ',\n",
       "       'ЗАБАЙКАЛЬСКИЙ КРАЙ', 'МУРМАНСКАЯ ОБЛ', 'МОСКОВСКАЯ ОБЛ',\n",
       "       'НЕНЕЦКИЙ АО', 'АО НЕНЕЦКИЙ', 'ЧУВАШИЯ ЧУВАШСКАЯ РЕСПУБЛИКА -',\n",
       "       'ЧУКОТСКИЙ АО', 'НЕИЗВЕСТНО', 'ОБЛ ТАМБОВСКАЯ', 'БРЯНСКАЯ ОБЛ',\n",
       "       'ИРКУТСКАЯ ОБЛ', 'РЕСП АЛТАЙ', 'САМАРСКАЯ', 'ОБЛ ПЕНЗЕНСКАЯ',\n",
       "       'ОБЛ РЯЗАНСКАЯ', 'ВОЛОГОДСКАЯ', 'РЕСП ТЫВА', 'РЕСПУБЛИКА ТЫВА',\n",
       "       'ВОЛГОГРАДСКАЯ ОБЛАСТЬ', 'ОБЛ ТОМСКАЯ', 'АСТРАХАНСКАЯ ОБЛ',\n",
       "       'БЕЛГОРОДСКАЯ ОБЛАСТЬ', 'Г. МОСКВА', 'КУРГАНСКАЯ ОБЛ',\n",
       "       'РЕСП УДМУРТСКАЯ', 'БАШКОРТОСТАН', 'ЧУВАШСКАЯ РЕСП',\n",
       "       'РЕСП КАЛМЫКИЯ', 'КАРАЧАЕВО-ЧЕРКЕССКАЯ РЕСП',\n",
       "       'КАБАРДИНО-БАЛКАРСКАЯ РЕСП', 'КАЛМЫКИЯ РЕСП', 'Г МОСКВА',\n",
       "       'КРАЙ ХАБАРОВСКИЙ', 'НОВОСИБИРСКАЯ ОБЛ', 'ОБЛ ТУЛЬСКАЯ',\n",
       "       'РЕСПУБЛИКА КАРЕЛИЯ', 'ОБЛ ЯРОСЛАВСКАЯ', 'ОБЛ СМОЛЕНСКАЯ',\n",
       "       'БЕЛГОРОДСКАЯ ОБЛ', 'КРАСНОДАРСКИЙ', 'КАЛУЖСКАЯ ОБЛАСТЬ',\n",
       "       'РЕСП ХАКАСИЯ', 'КАЛИНИНГРАДСКАЯ ОБЛ', 'ВОРОНЕЖСКАЯ ОБЛ',\n",
       "       'КУРСКАЯ ОБЛАСТЬ', 'АРХАНГЕЛЬСКАЯ ОБЛ', 'РЕСП ДАГЕСТАН',\n",
       "       'ВОЛОГОДСКАЯ ОБЛАСТЬ', 'ОБЛ ОМСКАЯ',\n",
       "       'РЕСП СЕВЕРНАЯ ОСЕТИЯ - АЛАНИЯ', 'АЛТАЙСКИЙ',\n",
       "       'ВЛАДИМИРСКАЯ ОБЛАСТЬ', 'ЧЕЧЕНСКАЯ РЕСП', 'КИРОВСКАЯ ОБЛАСТЬ',\n",
       "       'МОСКОВСКАЯ', 'МАРИЙ ЭЛ РЕСП', 'ВЛАДИМИРСКАЯ ОБЛ',\n",
       "       'ЛИПЕЦКАЯ ОБЛАСТЬ', 'РОСТОВСКАЯ', 'РЕСП. КОМИ', 'КАЛУЖСКАЯ ОБЛ',\n",
       "       'АОБЛ ЕВРЕЙСКАЯ', 'ДАГЕСТАН РЕСП', 'АЛТАЙСКИЙ КРАЙ',\n",
       "       'МОРДОВИЯ РЕСП', 'ЛИПЕЦКАЯ ОБЛ', 'БРЯНСКАЯ ОБЛАСТЬ',\n",
       "       'АМУРСКАЯ ОБЛ', 'ОБЛ. ЛИПЕЦКАЯ', 'ЛЕНИНГРАДСКАЯ', 'АСТРАХАНСКАЯ',\n",
       "       'ВОЛОГОДСКАЯ ОБЛ', 'КУРГАНСКАЯ ОБЛАСТЬ', 'ЧИТИНСКАЯ ОБЛ',\n",
       "       'НИЖЕГОРОДСКАЯ ОБЛАСТЬ', 'БУРЯТИЯ РЕСП', 'МЫТИЩИНСКИЙ Р-Н', 'ОРЁЛ',\n",
       "       'КАБАРДИНО-БАЛКАРСКАЯ', 'ЧЕЧЕНСКАЯ РЕСПУБЛИКА', 'РЕСП ЧЕЧЕНСКАЯ',\n",
       "       'МУРМАНСКАЯ ОБЛАСТЬ', 'НОВОСИБИРСКАЯ ОБЛАСТЬ', 'БУРЯТИЯ',\n",
       "       'РЕСПУБЛИКА АЛТАЙ', 'ВОЛОГОДСКАЯ ОБЛ.', 'СТАВРОПОЛЬСКИЙ', 'РОССИЯ',\n",
       "       'НОВГОРОДСКАЯ ОБЛАСТЬ', 'ИВАНОВСКАЯ ОБЛАСТЬ', 'ИВАНОВСКАЯ ОБЛ',\n",
       "       'ВОРОНЕЖСКАЯ ОБЛАСТЬ', 'РЕСПУБЛИКА ДАГЕСТАН', 'КАМЧАТСКИЙ КРАЙ',\n",
       "       'КАРЕЛИЯ', 'АРХАНГЕЛЬСКАЯ ОБЛАСТЬ', 'КОСТРОМСКАЯ ОБЛАСТЬ',\n",
       "       'АДЫГЕЯ РЕСП', 'КОСТРОМСКАЯ ОБЛ', 'САХА /ЯКУТИЯ/',\n",
       "       'КРАЙ. СТАВРОПОЛЬСКИЙ', 'МОСКВОСКАЯ ОБЛ', 'ИНГУШЕТИЯ РЕСП',\n",
       "       'ОБЛ.НИЖЕГОРОДСКАЯ', 'ТОМСКАЯ', 'ТЮМЕНСКАЯ', '98',\n",
       "       'ОБЛ. БЕЛГОРОДСКАЯ', 'БРЯНСКИЙ', 'ОБЛ.МОСКОВСКАЯ', 'СВЕРДЛОВСКАЯ',\n",
       "       'КАМЧАТСКАЯ ОБЛАСТЬ', 'Г.МОСКВА', 'ОМСКАЯ', 'ОБЛ.РОСТОВСКАЯ',\n",
       "       'КРАЙ. ПЕРМСКИЙ', 'Г.ОДИНЦОВО МОСКОВСКАЯ ОБЛ',\n",
       "       'ПРИВОЛЖСКИЙ ФЕДЕРАЛЬНЫЙ ОКРУГ', 'КАЛМЫКИЯ', 'КЕМЕРОВСКАЯ', '74',\n",
       "       'МАГАДАНСКАЯ ОБЛАСТЬ', 'РЕСП.БАШКОРТОСТАН', 'КАРАЧАЕВО-ЧЕРКЕССКАЯ',\n",
       "       'РЕСПУБЛИКА САХА', 'ОБЛ. НОВОСИБИРСКАЯ', 'ОБЛ. ЧЕЛЯБИНСКАЯ',\n",
       "       'КАЛИНИНГРАДСКАЯ ОБЛ.', 'ГУСЬ-ХРУСТАЛЬНЫЙ Р-Н',\n",
       "       'ОБЛ. СВЕРДЛОВСКАЯ', 'РЕСПУБЛИКАТАТАРСТАН', 'АРХАНГЕЛЬСКАЯ',\n",
       "       'ХАКАСИЯ', 'КАЛУЖСКАЯ', 'ОБЛ. КИРОВСКАЯ', 'КРАЙ.ПЕРМСКИЙ',\n",
       "       'КРАЙ. КРАСНОЯРСКИЙ', 'ДАЛЬНИЙ ВОСТОК', 'РЕСПУБЛИКА ХАКАСИЯ',\n",
       "       'ПЕРМСКИЙ', 'ОБЛ. МУРМАНСКАЯ', 'КОМИ', 'РЕСП ЧУВАШСКАЯ - ЧУВАШИЯ',\n",
       "       'ОБЛ. КУРГАНСКАЯ', 'ОБЛ. ВЛАДИМИРСКАЯ', 'ЭВЕНКИЙСКИЙ АО',\n",
       "       'ОБЛ.САРАТОВСКАЯ', 'КАРЕЛИЯ РЕСП'], dtype=object)"
      ]
     },
     "execution_count": 192,
     "metadata": {},
     "output_type": "execute_result"
    }
   ],
   "source": [
    "# Cleaning the \"living_region\" column\n",
    "credit_all['living_region'].unique()"
   ]
  },
  {
   "cell_type": "markdown",
   "id": "bc2b4fbf",
   "metadata": {},
   "source": [
    "ОБЛ <br>\n",
    "РЕСП <br>\n",
    "Г<br>\n",
    "САХА<br>\n",
    "Г. <br>\n",
    "ОБЛАСТЬ<br>\n",
    "РЕСП. <br>\n",
    "РЕСПУБЛИКА<br>\n",
    "АО<br>\n",
    "КРАЙ<br>\n",
    "'САХА(ЯКУТИЯ)'<br>\n",
    "РЕСПУБЛИКА САХА:<br>\n",
    "https://www.google.com/search?q=%D0%A0%D0%95%D0%A1%D0%9F%D0%A3%D0%91%D0%9B%D0%98%D0%9A%D0%90+%D0%A1%D0%90%D0%A5%D0%90&oq=%D0%A0%D0%95%D0%A1%D0%9F%D0%A3%D0%91%D0%9B%D0%98%D0%9A%D0%90+%D0%A1%D0%90%D0%A5%D0%90&aqs=chrome..69i57.238j0j7&sourceid=chrome&ie=UTF-8<br>\n",
    "98 - Санкт-Петербург<br>\n",
    "74 - Челябинск"
   ]
  },
  {
   "cell_type": "code",
   "execution_count": 193,
   "id": "6eeaa7b7",
   "metadata": {},
   "outputs": [],
   "source": [
    "credit_all['living_region_cleaned'] = credit_all['living_region'].apply(change_living)    "
   ]
  },
  {
   "cell_type": "code",
   "execution_count": 194,
   "id": "43e17edd",
   "metadata": {
    "scrolled": true
   },
   "outputs": [
    {
     "data": {
      "text/plain": [
       "array(['ВОЛОГОДСКАЯ', 'БЕЛГОРОДСКАЯ', 'ЧЕЛЯБИНСКАЯ',\n",
       "       'КАРАЧАЕВОЧЕРКЕССКАЯ', 'УЛЬЯНОВСКАЯ', 'СТАВРОПОЛЬСКИЙ',\n",
       "       'САНКТПЕТЕРБУРГ', 'ОМСКАЯ', 'КАЛУЖСКАЯ', 'ТВЕРСКАЯ',\n",
       "       'БАШКОРТОСТАН', 'НИЖЕГОРОДСКАЯ', 'ТЫВА', 'СВЕРДЛОВСКАЯ', 'ЯКУТИЯ',\n",
       "       'КАМЧАТСКИЙ', 'КАРЕЛИЯ', 'ТАМБОВСКАЯ', 'ТАТАРСТАН',\n",
       "       'ЛЕНИНГРАДСКАЯ', 'РОСТОВСКАЯ', 'ПЕРМСКИЙ', 'МОСКВА', 'ПСКОВСКАЯ',\n",
       "       'ВОРОНЕЖСКАЯ', 'КРАСНОДАРСКИЙ', 'МУРМАНСКАЯ', 'ХАКАСИЯ',\n",
       "       'КРАСНОЯРСКИЙ', 'КУРСКАЯ', 'ХАБАРОВСКИЙ', 'САМАРСКАЯ', 'ЛИПЕЦКАЯ',\n",
       "       'ЧУВАШСКАЯ', 'МОСКОВСКАЯ', 'ОРЛОВСКАЯ', 'ЛИНСКАЯ', 'КЕМЕРОВСКАЯ',\n",
       "       'ЯМАЛОНЕНЕЦКИЙ', 'АСТРАХАНСКАЯ', 'СЕВОСЕТИЯАЛАНИЯ', 'ВЛАДИМИРСКАЯ',\n",
       "       'ХАНТЫМАНСИЙСКИЙ', 'КОМИ', 'НОВОСИБИРСКАЯ', 'КАЛИНИНГРАДСКАЯ',\n",
       "       'МОРДОВИЯ', 'БУРЯТИЯ', 'ИРКУТСКАЯ', 'УДМУРТСКАЯ', 'ЕВРЕЙСКАЯА',\n",
       "       'КАБАРДИНОБАЛКАРСКАЯ', 'МАРИЙЭЛ', 'ПЕНЗЕНСКАЯ', 'АМУРСКАЯ',\n",
       "       'ВОЛГОГРАДСКАЯ', 'АДЫГЕЯ', 'ЯРОСЛАВСКАЯ', 'ТЮМЕНСКАЯ',\n",
       "       'ОРЕНБУРГСКАЯ', 'КУРГАНСКАЯ', 'САРАТОВСКАЯ', 'ИВАНОВСКАЯ',\n",
       "       'ЧУВАШСКАЯЧУВАШИЯ', 'МАГАДАНСКАЯ', 'ТУЛЬСКАЯ', 'РЯЗАНСКАЯ',\n",
       "       'ЗАБАЙКАЛЬСКИЙ', 'СМОЛЕНСКАЯ', 'НОВГОРОДСКАЯ', 'АРХАНГЕЛЬСКАЯ',\n",
       "       'ЕВРЕЙСКАЯАВТОНОМНАЯ', 'ИНГУШЕТИЯ', 'ПРИМОРСКИЙ', 'АЛТАЙСКИЙ',\n",
       "       'КОСТРОМСКАЯ', 'КИРОВСКАЯ', 'ТОМСКАЯ', 'СЕВЕРНАЯОСЕТИЯАЛАНИЯ',\n",
       "       'БРЯНСКАЯ', 'КАЛМЫКИЯ', 'ГОРЬКОВСКАЯ', 'ПЕРМСКАЯ', 'НЕНЕЦКИЙ',\n",
       "       'ЧУВАШИЯЧУВАШСКАЯ', 'ЧУКОТСКИЙ', 'НЕИЗВЕСТНО', 'АЛТАЙ', 'ДАГЕСТАН',\n",
       "       'ЧЕЧЕНСКАЯ', 'АЕВРЕЙСКАЯ', 'ЧИТИНСКАЯ', 'МЫТИЩИНСКИЙ', 'ОРЁЛ',\n",
       "       'РОССИЯ', 'МОСКВОСКАЯ', 'БРЯНСКИЙ', 'КАМЧАТСКАЯ',\n",
       "       'ОДИНЦОВОМОСКОВСКАЯ', 'ПРИВОЛЖСКИЙФЕДЕРАЛЬНЫЙОКРУГ', 'ЧЕЛЯБИНСК',\n",
       "       'ГУСЬХРУСТАЛЬНЫЙ', 'ДАЛЬНИЙВОСТОК', 'ЭВЕНКИЙСКИЙ'], dtype=object)"
      ]
     },
     "execution_count": 194,
     "metadata": {},
     "output_type": "execute_result"
    }
   ],
   "source": [
    "credit_all['living_region_cleaned'].unique()"
   ]
  },
  {
   "cell_type": "code",
   "execution_count": 195,
   "id": "fe5b4264",
   "metadata": {},
   "outputs": [],
   "source": [
    "# There is only one missing value in \"monthly_income\", used the median of the whole column\n",
    "# If there would be more missing values, to get more precise result I'd use:\n",
    "#                     df.groupby(['age','living_region','job_position']).transform(lambda x: x.fillna(x.median()))\n",
    "\n",
    "credit_all.monthly_income.fillna(credit_all.monthly_income.median(), inplace=True)"
   ]
  },
  {
   "cell_type": "code",
   "execution_count": 196,
   "id": "906ac70f",
   "metadata": {},
   "outputs": [
    {
     "data": {
      "text/html": [
       "<div>\n",
       "<style scoped>\n",
       "    .dataframe tbody tr th:only-of-type {\n",
       "        vertical-align: middle;\n",
       "    }\n",
       "\n",
       "    .dataframe tbody tr th {\n",
       "        vertical-align: top;\n",
       "    }\n",
       "\n",
       "    .dataframe thead th {\n",
       "        text-align: right;\n",
       "    }\n",
       "</style>\n",
       "<table border=\"1\" class=\"dataframe\">\n",
       "  <thead>\n",
       "    <tr style=\"text-align: right;\">\n",
       "      <th></th>\n",
       "      <th>missing in %</th>\n",
       "      <th>missing in count</th>\n",
       "    </tr>\n",
       "  </thead>\n",
       "  <tbody>\n",
       "    <tr>\n",
       "      <th>credit_count</th>\n",
       "      <td>5.41</td>\n",
       "      <td>9230</td>\n",
       "    </tr>\n",
       "    <tr>\n",
       "      <th>overdue_credit_count</th>\n",
       "      <td>5.41</td>\n",
       "      <td>9230</td>\n",
       "    </tr>\n",
       "  </tbody>\n",
       "</table>\n",
       "</div>"
      ],
      "text/plain": [
       "                      missing in %  missing in count\n",
       "credit_count                  5.41              9230\n",
       "overdue_credit_count          5.41              9230"
      ]
     },
     "execution_count": 196,
     "metadata": {},
     "output_type": "execute_result"
    }
   ],
   "source": [
    "missing_v_c(credit_all)"
   ]
  },
  {
   "cell_type": "code",
   "execution_count": 197,
   "id": "cb11fe83",
   "metadata": {
    "scrolled": true
   },
   "outputs": [
    {
     "data": {
      "text/plain": [
       "9230"
      ]
     },
     "execution_count": 197,
     "metadata": {},
     "output_type": "execute_result"
    }
   ],
   "source": [
    "# The clients with NULL values in \"credit_count\" have NULL values in \"overdue_credit_count\" as well\n",
    "# Can't see any feature to extract useful data to fill the columns with missing values. Drop them!\n",
    "\n",
    "# credit_tn.loc[(credit_tn['credit_count'].isnull() == True) & (credit_tn['overdue_credit_count'].isnull() == True)]\n",
    "credit_all.loc[(credit_all['credit_count'].isnull() == True) & (credit_all['overdue_credit_count'].isnull() == True)].shape[0]"
   ]
  },
  {
   "cell_type": "code",
   "execution_count": 198,
   "id": "dd7b158f",
   "metadata": {},
   "outputs": [],
   "source": [
    "[indx_dropped.append(i) for i in credit_all.loc[(credit_all['credit_count'].isnull()==True)&(credit_all['test']==False)].index]\n",
    "credit_all.dropna(subset=['credit_count'],inplace=True)"
   ]
  },
  {
   "cell_type": "code",
   "execution_count": 199,
   "id": "a7517622",
   "metadata": {
    "scrolled": true
   },
   "outputs": [
    {
     "data": {
      "text/plain": [
       "0"
      ]
     },
     "execution_count": 199,
     "metadata": {},
     "output_type": "execute_result"
    }
   ],
   "source": [
    "credit_all.isnull().sum().sum()"
   ]
  },
  {
   "cell_type": "code",
   "execution_count": 200,
   "id": "c924ce11",
   "metadata": {},
   "outputs": [
    {
     "data": {
      "text/html": [
       "<div>\n",
       "<style scoped>\n",
       "    .dataframe tbody tr th:only-of-type {\n",
       "        vertical-align: middle;\n",
       "    }\n",
       "\n",
       "    .dataframe tbody tr th {\n",
       "        vertical-align: top;\n",
       "    }\n",
       "\n",
       "    .dataframe thead th {\n",
       "        text-align: right;\n",
       "    }\n",
       "</style>\n",
       "<table border=\"1\" class=\"dataframe\">\n",
       "  <thead>\n",
       "    <tr style=\"text-align: right;\">\n",
       "      <th></th>\n",
       "      <th>client_id</th>\n",
       "      <th>age</th>\n",
       "      <th>credit_sum</th>\n",
       "      <th>credit_month</th>\n",
       "      <th>tariff_id</th>\n",
       "      <th>score_shk</th>\n",
       "      <th>monthly_income</th>\n",
       "      <th>credit_count</th>\n",
       "      <th>overdue_credit_count</th>\n",
       "    </tr>\n",
       "  </thead>\n",
       "  <tbody>\n",
       "    <tr>\n",
       "      <th>count</th>\n",
       "      <td>161516.00</td>\n",
       "      <td>161516.00</td>\n",
       "      <td>161516.00</td>\n",
       "      <td>161516.00</td>\n",
       "      <td>161516.00</td>\n",
       "      <td>161516.00</td>\n",
       "      <td>161516.00</td>\n",
       "      <td>161516.00</td>\n",
       "      <td>161516.00</td>\n",
       "    </tr>\n",
       "    <tr>\n",
       "      <th>mean</th>\n",
       "      <td>85362.21</td>\n",
       "      <td>37.04</td>\n",
       "      <td>25934.36</td>\n",
       "      <td>10.99</td>\n",
       "      <td>1.32</td>\n",
       "      <td>0.46</td>\n",
       "      <td>40416.55</td>\n",
       "      <td>2.11</td>\n",
       "      <td>0.05</td>\n",
       "    </tr>\n",
       "    <tr>\n",
       "      <th>std</th>\n",
       "      <td>49278.53</td>\n",
       "      <td>10.40</td>\n",
       "      <td>16193.70</td>\n",
       "      <td>3.54</td>\n",
       "      <td>0.24</td>\n",
       "      <td>0.12</td>\n",
       "      <td>25324.45</td>\n",
       "      <td>1.78</td>\n",
       "      <td>0.21</td>\n",
       "    </tr>\n",
       "    <tr>\n",
       "      <th>min</th>\n",
       "      <td>1.00</td>\n",
       "      <td>18.00</td>\n",
       "      <td>2736.00</td>\n",
       "      <td>3.00</td>\n",
       "      <td>1.00</td>\n",
       "      <td>0.00</td>\n",
       "      <td>5000.00</td>\n",
       "      <td>0.00</td>\n",
       "      <td>0.00</td>\n",
       "    </tr>\n",
       "    <tr>\n",
       "      <th>25%</th>\n",
       "      <td>42681.75</td>\n",
       "      <td>29.00</td>\n",
       "      <td>14828.00</td>\n",
       "      <td>10.00</td>\n",
       "      <td>1.10</td>\n",
       "      <td>0.38</td>\n",
       "      <td>25000.00</td>\n",
       "      <td>1.00</td>\n",
       "      <td>0.00</td>\n",
       "    </tr>\n",
       "    <tr>\n",
       "      <th>50%</th>\n",
       "      <td>85367.50</td>\n",
       "      <td>35.00</td>\n",
       "      <td>21076.67</td>\n",
       "      <td>10.00</td>\n",
       "      <td>1.32</td>\n",
       "      <td>0.46</td>\n",
       "      <td>35000.00</td>\n",
       "      <td>2.00</td>\n",
       "      <td>0.00</td>\n",
       "    </tr>\n",
       "    <tr>\n",
       "      <th>75%</th>\n",
       "      <td>128054.25</td>\n",
       "      <td>43.00</td>\n",
       "      <td>31768.00</td>\n",
       "      <td>12.00</td>\n",
       "      <td>1.60</td>\n",
       "      <td>0.55</td>\n",
       "      <td>50000.00</td>\n",
       "      <td>3.00</td>\n",
       "      <td>0.00</td>\n",
       "    </tr>\n",
       "    <tr>\n",
       "      <th>max</th>\n",
       "      <td>170746.00</td>\n",
       "      <td>71.00</td>\n",
       "      <td>200000.00</td>\n",
       "      <td>36.00</td>\n",
       "      <td>1.96</td>\n",
       "      <td>0.98</td>\n",
       "      <td>950000.00</td>\n",
       "      <td>21.00</td>\n",
       "      <td>3.00</td>\n",
       "    </tr>\n",
       "  </tbody>\n",
       "</table>\n",
       "</div>"
      ],
      "text/plain": [
       "       client_id       age  credit_sum  credit_month  tariff_id  score_shk  \\\n",
       "count  161516.00 161516.00   161516.00     161516.00  161516.00  161516.00   \n",
       "mean    85362.21     37.04    25934.36         10.99       1.32       0.46   \n",
       "std     49278.53     10.40    16193.70          3.54       0.24       0.12   \n",
       "min         1.00     18.00     2736.00          3.00       1.00       0.00   \n",
       "25%     42681.75     29.00    14828.00         10.00       1.10       0.38   \n",
       "50%     85367.50     35.00    21076.67         10.00       1.32       0.46   \n",
       "75%    128054.25     43.00    31768.00         12.00       1.60       0.55   \n",
       "max    170746.00     71.00   200000.00         36.00       1.96       0.98   \n",
       "\n",
       "       monthly_income  credit_count  overdue_credit_count  \n",
       "count       161516.00     161516.00             161516.00  \n",
       "mean         40416.55          2.11                  0.05  \n",
       "std          25324.45          1.78                  0.21  \n",
       "min           5000.00          0.00                  0.00  \n",
       "25%          25000.00          1.00                  0.00  \n",
       "50%          35000.00          2.00                  0.00  \n",
       "75%          50000.00          3.00                  0.00  \n",
       "max         950000.00         21.00                  3.00  "
      ]
     },
     "execution_count": 200,
     "metadata": {},
     "output_type": "execute_result"
    }
   ],
   "source": [
    "# we have skewed data\n",
    "credit_all.describe()"
   ]
  },
  {
   "cell_type": "markdown",
   "id": "1452642f",
   "metadata": {},
   "source": [
    "# Outliers detection"
   ]
  },
  {
   "cell_type": "code",
   "execution_count": 201,
   "id": "9a7f49ec",
   "metadata": {},
   "outputs": [],
   "source": [
    "boxplot_df = credit_all.loc[credit_all.test == False].copy()\n",
    "boxplot_df['open_account_flg'] = y"
   ]
  },
  {
   "cell_type": "code",
   "execution_count": 202,
   "id": "ce32c0ee",
   "metadata": {},
   "outputs": [
    {
     "name": "stdout",
     "output_type": "stream",
     "text": [
      "age \n",
      "\n"
     ]
    },
    {
     "data": {
      "image/png": "[encoded data removed]",
      "text/plain": [
       "<Figure size 432x288 with 1 Axes>"
      ]
     },
     "metadata": {
      "needs_background": "light"
     },
     "output_type": "display_data"
    },
    {
     "name": "stdout",
     "output_type": "stream",
     "text": [
      "credit_sum \n",
      "\n"
     ]
    },
    {
     "data": {
      "image/png": "[encoded data removed]",
      "text/plain": [
       "<Figure size 432x288 with 1 Axes>"
      ]
     },
     "metadata": {
      "needs_background": "light"
     },
     "output_type": "display_data"
    },
    {
     "name": "stdout",
     "output_type": "stream",
     "text": [
      "credit_month \n",
      "\n"
     ]
    },
    {
     "data": {
      "image/png": "[encoded data removed]",
      "text/plain": [
       "<Figure size 432x288 with 1 Axes>"
      ]
     },
     "metadata": {
      "needs_background": "light"
     },
     "output_type": "display_data"
    },
    {
     "name": "stdout",
     "output_type": "stream",
     "text": [
      "tariff_id \n",
      "\n"
     ]
    },
    {
     "data": {
      "image/png": "[encoded data removed]",
      "text/plain": [
       "<Figure size 432x288 with 1 Axes>"
      ]
     },
     "metadata": {
      "needs_background": "light"
     },
     "output_type": "display_data"
    },
    {
     "name": "stdout",
     "output_type": "stream",
     "text": [
      "score_shk \n",
      "\n"
     ]
    },
    {
     "data": {
      "image/png": "[encoded data removed]",
      "text/plain": [
       "<Figure size 432x288 with 1 Axes>"
      ]
     },
     "metadata": {
      "needs_background": "light"
     },
     "output_type": "display_data"
    },
    {
     "name": "stdout",
     "output_type": "stream",
     "text": [
      "monthly_income \n",
      "\n"
     ]
    },
    {
     "data": {
      "image/png": "[encoded data removed]",
      "text/plain": [
       "<Figure size 432x288 with 1 Axes>"
      ]
     },
     "metadata": {
      "needs_background": "light"
     },
     "output_type": "display_data"
    },
    {
     "name": "stdout",
     "output_type": "stream",
     "text": [
      "credit_count \n",
      "\n"
     ]
    },
    {
     "data": {
      "image/png": "[encoded data removed]",
      "text/plain": [
       "<Figure size 432x288 with 1 Axes>"
      ]
     },
     "metadata": {
      "needs_background": "light"
     },
     "output_type": "display_data"
    },
    {
     "name": "stdout",
     "output_type": "stream",
     "text": [
      "overdue_credit_count \n",
      "\n"
     ]
    },
    {
     "data": {
      "image/png": "[encoded data removed]",
      "text/plain": [
       "<Figure size 432x288 with 1 Axes>"
      ]
     },
     "metadata": {
      "needs_background": "light"
     },
     "output_type": "display_data"
    },
    {
     "name": "stdout",
     "output_type": "stream",
     "text": [
      "test \n",
      "\n"
     ]
    },
    {
     "ename": "TypeError",
     "evalue": "numpy boolean subtract, the `-` operator, is not supported, use the bitwise_xor, the `^` operator, or the logical_xor function instead.",
     "output_type": "error",
     "traceback": [
      "\u001b[0;31m---------------------------------------------------------------------------\u001b[0m",
      "\u001b[0;31mTypeError\u001b[0m                                 Traceback (most recent call last)",
      "\u001b[0;32m<ipython-input-202-e1d828205a14>\u001b[0m in \u001b[0;36m<module>\u001b[0;34m\u001b[0m\n\u001b[0;32m----> 1\u001b[0;31m \u001b[0mboxplot\u001b[0m\u001b[0;34m(\u001b[0m\u001b[0mboxplot_df\u001b[0m\u001b[0;34m,\u001b[0m\u001b[0;34m'client_id'\u001b[0m\u001b[0;34m,\u001b[0m\u001b[0;34m'open_account_flg'\u001b[0m\u001b[0;34m)\u001b[0m\u001b[0;34m\u001b[0m\u001b[0;34m\u001b[0m\u001b[0m\n\u001b[0m",
      "\u001b[0;32m<ipython-input-167-91ea2faf7ed7>\u001b[0m in \u001b[0;36mboxplot\u001b[0;34m(df, id_, target_column)\u001b[0m\n\u001b[1;32m      3\u001b[0m         \u001b[0;32mif\u001b[0m \u001b[0;34m(\u001b[0m\u001b[0mi\u001b[0m \u001b[0;34m!=\u001b[0m \u001b[0mid_\u001b[0m\u001b[0;34m)\u001b[0m \u001b[0;34m&\u001b[0m \u001b[0;34m(\u001b[0m\u001b[0mi\u001b[0m \u001b[0;34m!=\u001b[0m \u001b[0mtarget_column\u001b[0m\u001b[0;34m)\u001b[0m \u001b[0;34m&\u001b[0m \u001b[0;34m(\u001b[0m\u001b[0mpd\u001b[0m\u001b[0;34m.\u001b[0m\u001b[0mapi\u001b[0m\u001b[0;34m.\u001b[0m\u001b[0mtypes\u001b[0m\u001b[0;34m.\u001b[0m\u001b[0mis_numeric_dtype\u001b[0m\u001b[0;34m(\u001b[0m\u001b[0mdf\u001b[0m\u001b[0;34m[\u001b[0m\u001b[0mi\u001b[0m\u001b[0;34m]\u001b[0m\u001b[0;34m)\u001b[0m\u001b[0;34m)\u001b[0m\u001b[0;34m:\u001b[0m\u001b[0;34m\u001b[0m\u001b[0;34m\u001b[0m\u001b[0m\n\u001b[1;32m      4\u001b[0m             \u001b[0mprint\u001b[0m\u001b[0;34m(\u001b[0m\u001b[0mi\u001b[0m\u001b[0;34m,\u001b[0m\u001b[0;34m'\\n'\u001b[0m\u001b[0;34m)\u001b[0m\u001b[0;34m\u001b[0m\u001b[0;34m\u001b[0m\u001b[0m\n\u001b[0;32m----> 5\u001b[0;31m             \u001b[0msns\u001b[0m\u001b[0;34m.\u001b[0m\u001b[0mboxplot\u001b[0m\u001b[0;34m(\u001b[0m\u001b[0mx\u001b[0m\u001b[0;34m=\u001b[0m\u001b[0mtarget_column\u001b[0m\u001b[0;34m,\u001b[0m\u001b[0my\u001b[0m\u001b[0;34m=\u001b[0m\u001b[0mi\u001b[0m\u001b[0;34m,\u001b[0m\u001b[0mdata\u001b[0m\u001b[0;34m=\u001b[0m\u001b[0mdf\u001b[0m\u001b[0;34m)\u001b[0m\u001b[0;34m\u001b[0m\u001b[0;34m\u001b[0m\u001b[0m\n\u001b[0m\u001b[1;32m      6\u001b[0m             \u001b[0mplt\u001b[0m\u001b[0;34m.\u001b[0m\u001b[0mshow\u001b[0m\u001b[0;34m(\u001b[0m\u001b[0;34m)\u001b[0m\u001b[0;34m;\u001b[0m\u001b[0;34m\u001b[0m\u001b[0;34m\u001b[0m\u001b[0m\n",
      "\u001b[0;32m~/opt/miniconda3/lib/python3.9/site-packages/seaborn/_decorators.py\u001b[0m in \u001b[0;36minner_f\u001b[0;34m(*args, **kwargs)\u001b[0m\n\u001b[1;32m     44\u001b[0m             )\n\u001b[1;32m     45\u001b[0m         \u001b[0mkwargs\u001b[0m\u001b[0;34m.\u001b[0m\u001b[0mupdate\u001b[0m\u001b[0;34m(\u001b[0m\u001b[0;34m{\u001b[0m\u001b[0mk\u001b[0m\u001b[0;34m:\u001b[0m \u001b[0marg\u001b[0m \u001b[0;32mfor\u001b[0m \u001b[0mk\u001b[0m\u001b[0;34m,\u001b[0m \u001b[0marg\u001b[0m \u001b[0;32min\u001b[0m \u001b[0mzip\u001b[0m\u001b[0;34m(\u001b[0m\u001b[0msig\u001b[0m\u001b[0;34m.\u001b[0m\u001b[0mparameters\u001b[0m\u001b[0;34m,\u001b[0m \u001b[0margs\u001b[0m\u001b[0;34m)\u001b[0m\u001b[0;34m}\u001b[0m\u001b[0;34m)\u001b[0m\u001b[0;34m\u001b[0m\u001b[0;34m\u001b[0m\u001b[0m\n\u001b[0;32m---> 46\u001b[0;31m         \u001b[0;32mreturn\u001b[0m \u001b[0mf\u001b[0m\u001b[0;34m(\u001b[0m\u001b[0;34m**\u001b[0m\u001b[0mkwargs\u001b[0m\u001b[0;34m)\u001b[0m\u001b[0;34m\u001b[0m\u001b[0;34m\u001b[0m\u001b[0m\n\u001b[0m\u001b[1;32m     47\u001b[0m     \u001b[0;32mreturn\u001b[0m \u001b[0minner_f\u001b[0m\u001b[0;34m\u001b[0m\u001b[0;34m\u001b[0m\u001b[0m\n\u001b[1;32m     48\u001b[0m \u001b[0;34m\u001b[0m\u001b[0m\n",
      "\u001b[0;32m~/opt/miniconda3/lib/python3.9/site-packages/seaborn/categorical.py\u001b[0m in \u001b[0;36mboxplot\u001b[0;34m(x, y, hue, data, order, hue_order, orient, color, palette, saturation, width, dodge, fliersize, linewidth, whis, ax, **kwargs)\u001b[0m\n\u001b[1;32m   2249\u001b[0m     \u001b[0mkwargs\u001b[0m\u001b[0;34m.\u001b[0m\u001b[0mupdate\u001b[0m\u001b[0;34m(\u001b[0m\u001b[0mdict\u001b[0m\u001b[0;34m(\u001b[0m\u001b[0mwhis\u001b[0m\u001b[0;34m=\u001b[0m\u001b[0mwhis\u001b[0m\u001b[0;34m)\u001b[0m\u001b[0;34m)\u001b[0m\u001b[0;34m\u001b[0m\u001b[0;34m\u001b[0m\u001b[0m\n\u001b[1;32m   2250\u001b[0m \u001b[0;34m\u001b[0m\u001b[0m\n\u001b[0;32m-> 2251\u001b[0;31m     \u001b[0mplotter\u001b[0m\u001b[0;34m.\u001b[0m\u001b[0mplot\u001b[0m\u001b[0;34m(\u001b[0m\u001b[0max\u001b[0m\u001b[0;34m,\u001b[0m \u001b[0mkwargs\u001b[0m\u001b[0;34m)\u001b[0m\u001b[0;34m\u001b[0m\u001b[0;34m\u001b[0m\u001b[0m\n\u001b[0m\u001b[1;32m   2252\u001b[0m     \u001b[0;32mreturn\u001b[0m \u001b[0max\u001b[0m\u001b[0;34m\u001b[0m\u001b[0;34m\u001b[0m\u001b[0m\n\u001b[1;32m   2253\u001b[0m \u001b[0;34m\u001b[0m\u001b[0m\n",
      "\u001b[0;32m~/opt/miniconda3/lib/python3.9/site-packages/seaborn/categorical.py\u001b[0m in \u001b[0;36mplot\u001b[0;34m(self, ax, boxplot_kws)\u001b[0m\n\u001b[1;32m    507\u001b[0m     \u001b[0;32mdef\u001b[0m \u001b[0mplot\u001b[0m\u001b[0;34m(\u001b[0m\u001b[0mself\u001b[0m\u001b[0;34m,\u001b[0m \u001b[0max\u001b[0m\u001b[0;34m,\u001b[0m \u001b[0mboxplot_kws\u001b[0m\u001b[0;34m)\u001b[0m\u001b[0;34m:\u001b[0m\u001b[0;34m\u001b[0m\u001b[0;34m\u001b[0m\u001b[0m\n\u001b[1;32m    508\u001b[0m         \u001b[0;34m\"\"\"Make the plot.\"\"\"\u001b[0m\u001b[0;34m\u001b[0m\u001b[0;34m\u001b[0m\u001b[0m\n\u001b[0;32m--> 509\u001b[0;31m         \u001b[0mself\u001b[0m\u001b[0;34m.\u001b[0m\u001b[0mdraw_boxplot\u001b[0m\u001b[0;34m(\u001b[0m\u001b[0max\u001b[0m\u001b[0;34m,\u001b[0m \u001b[0mboxplot_kws\u001b[0m\u001b[0;34m)\u001b[0m\u001b[0;34m\u001b[0m\u001b[0;34m\u001b[0m\u001b[0m\n\u001b[0m\u001b[1;32m    510\u001b[0m         \u001b[0mself\u001b[0m\u001b[0;34m.\u001b[0m\u001b[0mannotate_axes\u001b[0m\u001b[0;34m(\u001b[0m\u001b[0max\u001b[0m\u001b[0;34m)\u001b[0m\u001b[0;34m\u001b[0m\u001b[0;34m\u001b[0m\u001b[0m\n\u001b[1;32m    511\u001b[0m         \u001b[0;32mif\u001b[0m \u001b[0mself\u001b[0m\u001b[0;34m.\u001b[0m\u001b[0morient\u001b[0m \u001b[0;34m==\u001b[0m \u001b[0;34m\"h\"\u001b[0m\u001b[0;34m:\u001b[0m\u001b[0;34m\u001b[0m\u001b[0;34m\u001b[0m\u001b[0m\n",
      "\u001b[0;32m~/opt/miniconda3/lib/python3.9/site-packages/seaborn/categorical.py\u001b[0m in \u001b[0;36mdraw_boxplot\u001b[0;34m(self, ax, kws)\u001b[0m\n\u001b[1;32m    439\u001b[0m                     \u001b[0;32mcontinue\u001b[0m\u001b[0;34m\u001b[0m\u001b[0;34m\u001b[0m\u001b[0m\n\u001b[1;32m    440\u001b[0m \u001b[0;34m\u001b[0m\u001b[0m\n\u001b[0;32m--> 441\u001b[0;31m                 artist_dict = ax.boxplot(box_data,\n\u001b[0m\u001b[1;32m    442\u001b[0m                                          \u001b[0mvert\u001b[0m\u001b[0;34m=\u001b[0m\u001b[0mvert\u001b[0m\u001b[0;34m,\u001b[0m\u001b[0;34m\u001b[0m\u001b[0;34m\u001b[0m\u001b[0m\n\u001b[1;32m    443\u001b[0m                                          \u001b[0mpatch_artist\u001b[0m\u001b[0;34m=\u001b[0m\u001b[0;32mTrue\u001b[0m\u001b[0;34m,\u001b[0m\u001b[0;34m\u001b[0m\u001b[0;34m\u001b[0m\u001b[0m\n",
      "\u001b[0;32m~/opt/miniconda3/lib/python3.9/site-packages/matplotlib/__init__.py\u001b[0m in \u001b[0;36minner\u001b[0;34m(ax, data, *args, **kwargs)\u001b[0m\n\u001b[1;32m   1410\u001b[0m     \u001b[0;32mdef\u001b[0m \u001b[0minner\u001b[0m\u001b[0;34m(\u001b[0m\u001b[0max\u001b[0m\u001b[0;34m,\u001b[0m \u001b[0;34m*\u001b[0m\u001b[0margs\u001b[0m\u001b[0;34m,\u001b[0m \u001b[0mdata\u001b[0m\u001b[0;34m=\u001b[0m\u001b[0;32mNone\u001b[0m\u001b[0;34m,\u001b[0m \u001b[0;34m**\u001b[0m\u001b[0mkwargs\u001b[0m\u001b[0;34m)\u001b[0m\u001b[0;34m:\u001b[0m\u001b[0;34m\u001b[0m\u001b[0;34m\u001b[0m\u001b[0m\n\u001b[1;32m   1411\u001b[0m         \u001b[0;32mif\u001b[0m \u001b[0mdata\u001b[0m \u001b[0;32mis\u001b[0m \u001b[0;32mNone\u001b[0m\u001b[0;34m:\u001b[0m\u001b[0;34m\u001b[0m\u001b[0;34m\u001b[0m\u001b[0m\n\u001b[0;32m-> 1412\u001b[0;31m             \u001b[0;32mreturn\u001b[0m \u001b[0mfunc\u001b[0m\u001b[0;34m(\u001b[0m\u001b[0max\u001b[0m\u001b[0;34m,\u001b[0m \u001b[0;34m*\u001b[0m\u001b[0mmap\u001b[0m\u001b[0;34m(\u001b[0m\u001b[0msanitize_sequence\u001b[0m\u001b[0;34m,\u001b[0m \u001b[0margs\u001b[0m\u001b[0;34m)\u001b[0m\u001b[0;34m,\u001b[0m \u001b[0;34m**\u001b[0m\u001b[0mkwargs\u001b[0m\u001b[0;34m)\u001b[0m\u001b[0;34m\u001b[0m\u001b[0;34m\u001b[0m\u001b[0m\n\u001b[0m\u001b[1;32m   1413\u001b[0m \u001b[0;34m\u001b[0m\u001b[0m\n\u001b[1;32m   1414\u001b[0m         \u001b[0mbound\u001b[0m \u001b[0;34m=\u001b[0m \u001b[0mnew_sig\u001b[0m\u001b[0;34m.\u001b[0m\u001b[0mbind\u001b[0m\u001b[0;34m(\u001b[0m\u001b[0max\u001b[0m\u001b[0;34m,\u001b[0m \u001b[0;34m*\u001b[0m\u001b[0margs\u001b[0m\u001b[0;34m,\u001b[0m \u001b[0;34m**\u001b[0m\u001b[0mkwargs\u001b[0m\u001b[0;34m)\u001b[0m\u001b[0;34m\u001b[0m\u001b[0;34m\u001b[0m\u001b[0m\n",
      "\u001b[0;32m~/opt/miniconda3/lib/python3.9/site-packages/matplotlib/axes/_axes.py\u001b[0m in \u001b[0;36mboxplot\u001b[0;34m(self, x, notch, sym, vert, whis, positions, widths, patch_artist, bootstrap, usermedians, conf_intervals, meanline, showmeans, showcaps, showbox, showfliers, boxprops, labels, flierprops, medianprops, meanprops, capprops, whiskerprops, manage_ticks, autorange, zorder)\u001b[0m\n\u001b[1;32m   3709\u001b[0m             \u001b[0mbootstrap\u001b[0m \u001b[0;34m=\u001b[0m \u001b[0mrcParams\u001b[0m\u001b[0;34m[\u001b[0m\u001b[0;34m'boxplot.bootstrap'\u001b[0m\u001b[0;34m]\u001b[0m\u001b[0;34m\u001b[0m\u001b[0;34m\u001b[0m\u001b[0m\n\u001b[1;32m   3710\u001b[0m \u001b[0;34m\u001b[0m\u001b[0m\n\u001b[0;32m-> 3711\u001b[0;31m         bxpstats = cbook.boxplot_stats(x, whis=whis, bootstrap=bootstrap,\n\u001b[0m\u001b[1;32m   3712\u001b[0m                                        labels=labels, autorange=autorange)\n\u001b[1;32m   3713\u001b[0m         \u001b[0;32mif\u001b[0m \u001b[0mnotch\u001b[0m \u001b[0;32mis\u001b[0m \u001b[0;32mNone\u001b[0m\u001b[0;34m:\u001b[0m\u001b[0;34m\u001b[0m\u001b[0;34m\u001b[0m\u001b[0m\n",
      "\u001b[0;32m~/opt/miniconda3/lib/python3.9/site-packages/matplotlib/cbook/__init__.py\u001b[0m in \u001b[0;36mboxplot_stats\u001b[0;34m(X, whis, bootstrap, labels, autorange)\u001b[0m\n\u001b[1;32m   1196\u001b[0m \u001b[0;34m\u001b[0m\u001b[0m\n\u001b[1;32m   1197\u001b[0m         \u001b[0;31m# medians and quartiles\u001b[0m\u001b[0;34m\u001b[0m\u001b[0;34m\u001b[0m\u001b[0;34m\u001b[0m\u001b[0m\n\u001b[0;32m-> 1198\u001b[0;31m         \u001b[0mq1\u001b[0m\u001b[0;34m,\u001b[0m \u001b[0mmed\u001b[0m\u001b[0;34m,\u001b[0m \u001b[0mq3\u001b[0m \u001b[0;34m=\u001b[0m \u001b[0mnp\u001b[0m\u001b[0;34m.\u001b[0m\u001b[0mpercentile\u001b[0m\u001b[0;34m(\u001b[0m\u001b[0mx\u001b[0m\u001b[0;34m,\u001b[0m \u001b[0;34m[\u001b[0m\u001b[0;36m25\u001b[0m\u001b[0;34m,\u001b[0m \u001b[0;36m50\u001b[0m\u001b[0;34m,\u001b[0m \u001b[0;36m75\u001b[0m\u001b[0;34m]\u001b[0m\u001b[0;34m)\u001b[0m\u001b[0;34m\u001b[0m\u001b[0;34m\u001b[0m\u001b[0m\n\u001b[0m\u001b[1;32m   1199\u001b[0m \u001b[0;34m\u001b[0m\u001b[0m\n\u001b[1;32m   1200\u001b[0m         \u001b[0;31m# interquartile range\u001b[0m\u001b[0;34m\u001b[0m\u001b[0;34m\u001b[0m\u001b[0;34m\u001b[0m\u001b[0m\n",
      "\u001b[0;32m<__array_function__ internals>\u001b[0m in \u001b[0;36mpercentile\u001b[0;34m(*args, **kwargs)\u001b[0m\n",
      "\u001b[0;32m~/opt/miniconda3/lib/python3.9/site-packages/numpy/lib/function_base.py\u001b[0m in \u001b[0;36mpercentile\u001b[0;34m(a, q, axis, out, overwrite_input, interpolation, keepdims)\u001b[0m\n\u001b[1;32m   3865\u001b[0m     \u001b[0;32mif\u001b[0m \u001b[0;32mnot\u001b[0m \u001b[0m_quantile_is_valid\u001b[0m\u001b[0;34m(\u001b[0m\u001b[0mq\u001b[0m\u001b[0;34m)\u001b[0m\u001b[0;34m:\u001b[0m\u001b[0;34m\u001b[0m\u001b[0;34m\u001b[0m\u001b[0m\n\u001b[1;32m   3866\u001b[0m         \u001b[0;32mraise\u001b[0m \u001b[0mValueError\u001b[0m\u001b[0;34m(\u001b[0m\u001b[0;34m\"Percentiles must be in the range [0, 100]\"\u001b[0m\u001b[0;34m)\u001b[0m\u001b[0;34m\u001b[0m\u001b[0;34m\u001b[0m\u001b[0m\n\u001b[0;32m-> 3867\u001b[0;31m     return _quantile_unchecked(\n\u001b[0m\u001b[1;32m   3868\u001b[0m         a, q, axis, out, overwrite_input, interpolation, keepdims)\n\u001b[1;32m   3869\u001b[0m \u001b[0;34m\u001b[0m\u001b[0m\n",
      "\u001b[0;32m~/opt/miniconda3/lib/python3.9/site-packages/numpy/lib/function_base.py\u001b[0m in \u001b[0;36m_quantile_unchecked\u001b[0;34m(a, q, axis, out, overwrite_input, interpolation, keepdims)\u001b[0m\n\u001b[1;32m   3984\u001b[0m                         interpolation='linear', keepdims=False):\n\u001b[1;32m   3985\u001b[0m     \u001b[0;34m\"\"\"Assumes that q is in [0, 1], and is an ndarray\"\"\"\u001b[0m\u001b[0;34m\u001b[0m\u001b[0;34m\u001b[0m\u001b[0m\n\u001b[0;32m-> 3986\u001b[0;31m     r, k = _ureduce(a, func=_quantile_ureduce_func, q=q, axis=axis, out=out,\n\u001b[0m\u001b[1;32m   3987\u001b[0m                     \u001b[0moverwrite_input\u001b[0m\u001b[0;34m=\u001b[0m\u001b[0moverwrite_input\u001b[0m\u001b[0;34m,\u001b[0m\u001b[0;34m\u001b[0m\u001b[0;34m\u001b[0m\u001b[0m\n\u001b[1;32m   3988\u001b[0m                     interpolation=interpolation)\n",
      "\u001b[0;32m~/opt/miniconda3/lib/python3.9/site-packages/numpy/lib/function_base.py\u001b[0m in \u001b[0;36m_ureduce\u001b[0;34m(a, func, **kwargs)\u001b[0m\n\u001b[1;32m   3562\u001b[0m         \u001b[0mkeepdim\u001b[0m \u001b[0;34m=\u001b[0m \u001b[0;34m(\u001b[0m\u001b[0;36m1\u001b[0m\u001b[0;34m,\u001b[0m\u001b[0;34m)\u001b[0m \u001b[0;34m*\u001b[0m \u001b[0ma\u001b[0m\u001b[0;34m.\u001b[0m\u001b[0mndim\u001b[0m\u001b[0;34m\u001b[0m\u001b[0;34m\u001b[0m\u001b[0m\n\u001b[1;32m   3563\u001b[0m \u001b[0;34m\u001b[0m\u001b[0m\n\u001b[0;32m-> 3564\u001b[0;31m     \u001b[0mr\u001b[0m \u001b[0;34m=\u001b[0m \u001b[0mfunc\u001b[0m\u001b[0;34m(\u001b[0m\u001b[0ma\u001b[0m\u001b[0;34m,\u001b[0m \u001b[0;34m**\u001b[0m\u001b[0mkwargs\u001b[0m\u001b[0;34m)\u001b[0m\u001b[0;34m\u001b[0m\u001b[0;34m\u001b[0m\u001b[0m\n\u001b[0m\u001b[1;32m   3565\u001b[0m     \u001b[0;32mreturn\u001b[0m \u001b[0mr\u001b[0m\u001b[0;34m,\u001b[0m \u001b[0mkeepdim\u001b[0m\u001b[0;34m\u001b[0m\u001b[0;34m\u001b[0m\u001b[0m\n\u001b[1;32m   3566\u001b[0m \u001b[0;34m\u001b[0m\u001b[0m\n",
      "\u001b[0;32m~/opt/miniconda3/lib/python3.9/site-packages/numpy/lib/function_base.py\u001b[0m in \u001b[0;36m_quantile_ureduce_func\u001b[0;34m(***failed resolving arguments***)\u001b[0m\n\u001b[1;32m   4110\u001b[0m         \u001b[0mx_above\u001b[0m \u001b[0;34m=\u001b[0m \u001b[0mtake\u001b[0m\u001b[0;34m(\u001b[0m\u001b[0map\u001b[0m\u001b[0;34m,\u001b[0m \u001b[0mindices_above\u001b[0m\u001b[0;34m,\u001b[0m \u001b[0maxis\u001b[0m\u001b[0;34m=\u001b[0m\u001b[0;36m0\u001b[0m\u001b[0;34m)\u001b[0m\u001b[0;34m\u001b[0m\u001b[0;34m\u001b[0m\u001b[0m\n\u001b[1;32m   4111\u001b[0m \u001b[0;34m\u001b[0m\u001b[0m\n\u001b[0;32m-> 4112\u001b[0;31m         \u001b[0mr\u001b[0m \u001b[0;34m=\u001b[0m \u001b[0m_lerp\u001b[0m\u001b[0;34m(\u001b[0m\u001b[0mx_below\u001b[0m\u001b[0;34m,\u001b[0m \u001b[0mx_above\u001b[0m\u001b[0;34m,\u001b[0m \u001b[0mweights_above\u001b[0m\u001b[0;34m,\u001b[0m \u001b[0mout\u001b[0m\u001b[0;34m=\u001b[0m\u001b[0mout\u001b[0m\u001b[0;34m)\u001b[0m\u001b[0;34m\u001b[0m\u001b[0;34m\u001b[0m\u001b[0m\n\u001b[0m\u001b[1;32m   4113\u001b[0m \u001b[0;34m\u001b[0m\u001b[0m\n\u001b[1;32m   4114\u001b[0m     \u001b[0;31m# if any slice contained a nan, then all results on that slice are also nan\u001b[0m\u001b[0;34m\u001b[0m\u001b[0;34m\u001b[0m\u001b[0;34m\u001b[0m\u001b[0m\n",
      "\u001b[0;32m~/opt/miniconda3/lib/python3.9/site-packages/numpy/lib/function_base.py\u001b[0m in \u001b[0;36m_lerp\u001b[0;34m(a, b, t, out)\u001b[0m\n\u001b[1;32m   4007\u001b[0m \u001b[0;32mdef\u001b[0m \u001b[0m_lerp\u001b[0m\u001b[0;34m(\u001b[0m\u001b[0ma\u001b[0m\u001b[0;34m,\u001b[0m \u001b[0mb\u001b[0m\u001b[0;34m,\u001b[0m \u001b[0mt\u001b[0m\u001b[0;34m,\u001b[0m \u001b[0mout\u001b[0m\u001b[0;34m=\u001b[0m\u001b[0;32mNone\u001b[0m\u001b[0;34m)\u001b[0m\u001b[0;34m:\u001b[0m\u001b[0;34m\u001b[0m\u001b[0;34m\u001b[0m\u001b[0m\n\u001b[1;32m   4008\u001b[0m     \u001b[0;34m\"\"\" Linearly interpolate from a to b by a factor of t \"\"\"\u001b[0m\u001b[0;34m\u001b[0m\u001b[0;34m\u001b[0m\u001b[0m\n\u001b[0;32m-> 4009\u001b[0;31m     \u001b[0mdiff_b_a\u001b[0m \u001b[0;34m=\u001b[0m \u001b[0msubtract\u001b[0m\u001b[0;34m(\u001b[0m\u001b[0mb\u001b[0m\u001b[0;34m,\u001b[0m \u001b[0ma\u001b[0m\u001b[0;34m)\u001b[0m\u001b[0;34m\u001b[0m\u001b[0;34m\u001b[0m\u001b[0m\n\u001b[0m\u001b[1;32m   4010\u001b[0m     \u001b[0;31m# asanyarray is a stop-gap until gh-13105\u001b[0m\u001b[0;34m\u001b[0m\u001b[0;34m\u001b[0m\u001b[0;34m\u001b[0m\u001b[0m\n\u001b[1;32m   4011\u001b[0m     \u001b[0mlerp_interpolation\u001b[0m \u001b[0;34m=\u001b[0m \u001b[0masanyarray\u001b[0m\u001b[0;34m(\u001b[0m\u001b[0madd\u001b[0m\u001b[0;34m(\u001b[0m\u001b[0ma\u001b[0m\u001b[0;34m,\u001b[0m \u001b[0mdiff_b_a\u001b[0m\u001b[0;34m*\u001b[0m\u001b[0mt\u001b[0m\u001b[0;34m,\u001b[0m \u001b[0mout\u001b[0m\u001b[0;34m=\u001b[0m\u001b[0mout\u001b[0m\u001b[0;34m)\u001b[0m\u001b[0;34m)\u001b[0m\u001b[0;34m\u001b[0m\u001b[0;34m\u001b[0m\u001b[0m\n",
      "\u001b[0;31mTypeError\u001b[0m: numpy boolean subtract, the `-` operator, is not supported, use the bitwise_xor, the `^` operator, or the logical_xor function instead."
     ]
    },
    {
     "data": {
      "image/png": "[encoded data removed]",
      "text/plain": [
       "<Figure size 432x288 with 1 Axes>"
      ]
     },
     "metadata": {
      "needs_background": "light"
     },
     "output_type": "display_data"
    }
   ],
   "source": [
    "boxplot(boxplot_df,'client_id','open_account_flg')"
   ]
  },
  {
   "cell_type": "code",
   "execution_count": null,
   "id": "67483e21",
   "metadata": {
    "scrolled": true
   },
   "outputs": [],
   "source": [
    "# checking for distribution\n",
    "dist_plots(boxplot_df, 'client_id','open_account_flg')"
   ]
  },
  {
   "cell_type": "code",
   "execution_count": null,
   "id": "15688f9a",
   "metadata": {},
   "outputs": [],
   "source": [
    "columns_skewed= ['credit_sum', 'credit_month', 'monthly_income']"
   ]
  },
  {
   "cell_type": "code",
   "execution_count": 203,
   "id": "cb1b262c",
   "metadata": {
    "scrolled": false
   },
   "outputs": [],
   "source": [
    "# skewness\n",
    "for i in columns_skewed:\n",
    "# ---- Quantile method\n",
    "\n",
    "# Decided not to delete the outliers. But we can achieve it by using quantile method\n",
    "\n",
    "#     q = credit_all[i].quantile(0.99)\n",
    "#     test_df = credit_all[credit_all[i]<q]\n",
    "#     test_df.describe(include='all')['credit_sum']\n",
    "\n",
    "# ---- log method\n",
    "    credit_all[i]=np.log(credit_all[i])"
   ]
  },
  {
   "cell_type": "code",
   "execution_count": 204,
   "id": "617497ac",
   "metadata": {},
   "outputs": [
    {
     "data": {
      "text/plain": [
       "<AxesSubplot:xlabel='credit_sum', ylabel='Density'>"
      ]
     },
     "execution_count": 204,
     "metadata": {},
     "output_type": "execute_result"
    },
    {
     "data": {
      "image/png": "[encoded data removed]",
      "text/plain": [
       "<Figure size 432x288 with 1 Axes>"
      ]
     },
     "metadata": {
      "needs_background": "light"
     },
     "output_type": "display_data"
    }
   ],
   "source": [
    "sns.distplot(credit_all['credit_sum'])"
   ]
  },
  {
   "cell_type": "markdown",
   "id": "553f0182",
   "metadata": {},
   "source": [
    "------"
   ]
  },
  {
   "cell_type": "markdown",
   "id": "3d9dce04",
   "metadata": {},
   "source": [
    "### Due to usage of OneHotEncoder before starting the trainig, I have commented out this part.\n",
    "OneHotEncoder can be pickled and reused with new unseen data"
   ]
  },
  {
   "cell_type": "raw",
   "id": "fa8e0801",
   "metadata": {
    "scrolled": true
   },
   "source": [
    "# checking and converting some of the non-numeric features into dummies if there are no missing values in columns\n",
    "for i in credit_all.columns:\n",
    "    if not pd.api.types.is_numeric_dtype(credit_all[i]):\n",
    "        if credit_all[i].nunique() < 25:\n",
    "        \n",
    "            print('\\033[1m' + f'{i}:')\n",
    "            print('\\033[0m')\n",
    "            print(credit_all[i].unique(),'\\n')\n",
    "        else:\n",
    "            print('\\033[1m' + f'{i}:')\n",
    "            print('\\033[0m')\n",
    "            print(credit_all[i].nunique(),' total unique values','\\n')\n",
    "        \n",
    "        if (credit_all[i].isnull().sum() == 0):\n",
    "            \n",
    "            # we will have to add the following line of code to our pipeline\n",
    "            credit_all = pd.get_dummies(credit_all, columns=[i],drop_first=True)\n",
    "            \n",
    "            print(f'***{i} -----> is converted into dummies','\\n')\n",
    "        else:\n",
    "            print(f'***{i} -----> We are having missing values here!','\\n')\n",
    "        print('\\n','-'*100, '\\n')"
   ]
  },
  {
   "cell_type": "code",
   "execution_count": 205,
   "id": "e71b829c",
   "metadata": {
    "collapsed": true
   },
   "outputs": [
    {
     "data": {
      "text/plain": [
       "1.10    66319\n",
       "1.60    35420\n",
       "1.32    14841\n",
       "1.40    10619\n",
       "1.50     7224\n",
       "1.90     5369\n",
       "1.43     3657\n",
       "1.30     3152\n",
       "1.16     3149\n",
       "1.00     2182\n",
       "1.44     2057\n",
       "1.19     2028\n",
       "1.20     1274\n",
       "1.70      976\n",
       "1.17      701\n",
       "1.21      556\n",
       "1.94      408\n",
       "1.22      363\n",
       "1.23      354\n",
       "1.91      312\n",
       "1.24      297\n",
       "1.41      125\n",
       "1.25       55\n",
       "1.18       36\n",
       "1.28       10\n",
       "1.26       10\n",
       "1.52        7\n",
       "1.27        6\n",
       "1.48        5\n",
       "1.56        2\n",
       "1.29        1\n",
       "1.96        1\n",
       "Name: tariff_id, dtype: int64"
      ]
     },
     "execution_count": 205,
     "metadata": {},
     "output_type": "execute_result"
    }
   ],
   "source": [
    "# Tariff column (Let's consider it as an encoded client tariff plan, which makes the following column categorical)\n",
    "credit_all.tariff_id.value_counts()"
   ]
  },
  {
   "cell_type": "code",
   "execution_count": 206,
   "id": "7651f9c6",
   "metadata": {},
   "outputs": [],
   "source": [
    "most_tariff = credit_all.tariff_id.value_counts().index[:-8]\n",
    "other_tariff = credit_all.tariff_id.value_counts().index[-8:]"
   ]
  },
  {
   "cell_type": "raw",
   "id": "b66767de",
   "metadata": {},
   "source": [
    "for i in most_tariff:\n",
    "    temp = 'tariff_id_' + str(i)\n",
    "    credit_all[temp] = (credit_all['tariff_id']==i).astype(np.int8)\n",
    "for j in other_tariff:\n",
    "    credit_all['other_tariff'] = credit_all['tariff_id'].isin(other_tariff).astype(np.int8)\n",
    "credit_all.drop(['tariff_id'],axis=1,inplace=True)"
   ]
  },
  {
   "cell_type": "markdown",
   "id": "8177e185",
   "metadata": {},
   "source": [
    "-------"
   ]
  },
  {
   "cell_type": "code",
   "execution_count": 207,
   "id": "62876d44",
   "metadata": {},
   "outputs": [
    {
     "name": "stdout",
     "output_type": "stream",
     "text": [
      "\n",
      "We have lost: 5.406% of our data!\n",
      "\n"
     ]
    }
   ],
   "source": [
    "print(f'''\n",
    "We have lost: {round(((credit_tn_org.shape[0]+credit_test_org.shape[0]) - credit_all.shape[0])/(credit_tn_org.shape[0]+credit_test_org.shape[0])*100,3)}% of our data!\n",
    "''')"
   ]
  },
  {
   "cell_type": "code",
   "execution_count": 208,
   "id": "a71f7b8e",
   "metadata": {},
   "outputs": [],
   "source": [
    "y=y.iloc[list(set(y.index)-set(indx_dropped))]"
   ]
  },
  {
   "cell_type": "code",
   "execution_count": 209,
   "id": "24301daf",
   "metadata": {},
   "outputs": [
    {
     "data": {
      "text/plain": [
       "True"
      ]
     },
     "execution_count": 209,
     "metadata": {},
     "output_type": "execute_result"
    }
   ],
   "source": [
    "y.shape[0]==credit_all[credit_all['test']==False].shape[0]"
   ]
  },
  {
   "cell_type": "markdown",
   "id": "2e295c1c",
   "metadata": {},
   "source": [
    "### Feature Importance using Chi2 example"
   ]
  },
  {
   "cell_type": "markdown",
   "id": "61707d57",
   "metadata": {},
   "source": [
    "Chi2 is best for categorical features. In our case, there is some valuable info"
   ]
  },
  {
   "cell_type": "code",
   "execution_count": 247,
   "id": "cf20ba50",
   "metadata": {},
   "outputs": [],
   "source": [
    "# the following line of code will be used as our X in train/test split\n",
    "X = credit_all.loc[credit_all['test']==False].copy()"
   ]
  },
  {
   "cell_type": "code",
   "execution_count": 59,
   "id": "57eb5af2",
   "metadata": {},
   "outputs": [],
   "source": [
    "def select_features(X_train, y_train, X_test):\n",
    "    fs = SelectKBest(score_func=chi2, k='all')\n",
    "    fs.fit(X_train, y_train)\n",
    "    X_train_fs = fs.transform(X_train)\n",
    "    X_test_fs = fs.transform(X_test)\n",
    "    return X_train_fs, X_test_fs, fs\n",
    "\n",
    "X_train, X_test, y_train, y_test = train_test_split(X, y, test_size=0.33, random_state=1)\n",
    "X_train_fs, X_test_fs, fs = select_features(X_train, y_train, X_test)"
   ]
  },
  {
   "cell_type": "code",
   "execution_count": 60,
   "id": "994f5b41",
   "metadata": {},
   "outputs": [],
   "source": [
    "score_table = pd.DataFrame(columns=['score'])\n",
    "score_table['score']=fs.scores_\n",
    "score_table=score_table.reset_index().rename(columns={'index':'featureNumber'})\n",
    "\n",
    "score_table['score'] = round(score_table.score,2)\n",
    "# score_table['feature_names'] = X.columns[fs.get_support()]\n",
    "\n",
    "score_table = score_table.sort_values(by='score',ascending=False,ignore_index=True).fillna(0)"
   ]
  },
  {
   "cell_type": "code",
   "execution_count": 61,
   "id": "8a42258f",
   "metadata": {
    "scrolled": true
   },
   "outputs": [
    {
     "data": {
      "text/html": [
       "<div>\n",
       "<style scoped>\n",
       "    .dataframe tbody tr th:only-of-type {\n",
       "        vertical-align: middle;\n",
       "    }\n",
       "\n",
       "    .dataframe tbody tr th {\n",
       "        vertical-align: top;\n",
       "    }\n",
       "\n",
       "    .dataframe thead th {\n",
       "        text-align: right;\n",
       "    }\n",
       "</style>\n",
       "<table border=\"1\" class=\"dataframe\">\n",
       "  <thead>\n",
       "    <tr style=\"text-align: right;\">\n",
       "      <th></th>\n",
       "      <th>featureNumber</th>\n",
       "      <th>score</th>\n",
       "    </tr>\n",
       "  </thead>\n",
       "  <tbody>\n",
       "    <tr>\n",
       "      <th>0</th>\n",
       "      <td>435</td>\n",
       "      <td>2358.28</td>\n",
       "    </tr>\n",
       "    <tr>\n",
       "      <th>1</th>\n",
       "      <td>21</td>\n",
       "      <td>593.32</td>\n",
       "    </tr>\n",
       "    <tr>\n",
       "      <th>2</th>\n",
       "      <td>438</td>\n",
       "      <td>240.65</td>\n",
       "    </tr>\n",
       "    <tr>\n",
       "      <th>3</th>\n",
       "      <td>434</td>\n",
       "      <td>240.00</td>\n",
       "    </tr>\n",
       "    <tr>\n",
       "      <th>4</th>\n",
       "      <td>30</td>\n",
       "      <td>217.38</td>\n",
       "    </tr>\n",
       "    <tr>\n",
       "      <th>5</th>\n",
       "      <td>32</td>\n",
       "      <td>197.09</td>\n",
       "    </tr>\n",
       "    <tr>\n",
       "      <th>6</th>\n",
       "      <td>114</td>\n",
       "      <td>175.49</td>\n",
       "    </tr>\n",
       "    <tr>\n",
       "      <th>7</th>\n",
       "      <td>6</td>\n",
       "      <td>164.27</td>\n",
       "    </tr>\n",
       "    <tr>\n",
       "      <th>8</th>\n",
       "      <td>437</td>\n",
       "      <td>163.22</td>\n",
       "    </tr>\n",
       "    <tr>\n",
       "      <th>9</th>\n",
       "      <td>440</td>\n",
       "      <td>142.64</td>\n",
       "    </tr>\n",
       "    <tr>\n",
       "      <th>10</th>\n",
       "      <td>436</td>\n",
       "      <td>125.51</td>\n",
       "    </tr>\n",
       "    <tr>\n",
       "      <th>11</th>\n",
       "      <td>442</td>\n",
       "      <td>91.08</td>\n",
       "    </tr>\n",
       "    <tr>\n",
       "      <th>12</th>\n",
       "      <td>408</td>\n",
       "      <td>82.44</td>\n",
       "    </tr>\n",
       "    <tr>\n",
       "      <th>13</th>\n",
       "      <td>456</td>\n",
       "      <td>79.46</td>\n",
       "    </tr>\n",
       "    <tr>\n",
       "      <th>14</th>\n",
       "      <td>345</td>\n",
       "      <td>75.43</td>\n",
       "    </tr>\n",
       "    <tr>\n",
       "      <th>15</th>\n",
       "      <td>186</td>\n",
       "      <td>75.21</td>\n",
       "    </tr>\n",
       "    <tr>\n",
       "      <th>16</th>\n",
       "      <td>160</td>\n",
       "      <td>74.25</td>\n",
       "    </tr>\n",
       "    <tr>\n",
       "      <th>17</th>\n",
       "      <td>11</td>\n",
       "      <td>71.62</td>\n",
       "    </tr>\n",
       "    <tr>\n",
       "      <th>18</th>\n",
       "      <td>0</td>\n",
       "      <td>65.20</td>\n",
       "    </tr>\n",
       "    <tr>\n",
       "      <th>19</th>\n",
       "      <td>12</td>\n",
       "      <td>59.43</td>\n",
       "    </tr>\n",
       "    <tr>\n",
       "      <th>20</th>\n",
       "      <td>441</td>\n",
       "      <td>58.93</td>\n",
       "    </tr>\n",
       "    <tr>\n",
       "      <th>21</th>\n",
       "      <td>25</td>\n",
       "      <td>58.31</td>\n",
       "    </tr>\n",
       "    <tr>\n",
       "      <th>22</th>\n",
       "      <td>237</td>\n",
       "      <td>57.67</td>\n",
       "    </tr>\n",
       "    <tr>\n",
       "      <th>23</th>\n",
       "      <td>362</td>\n",
       "      <td>56.07</td>\n",
       "    </tr>\n",
       "    <tr>\n",
       "      <th>24</th>\n",
       "      <td>433</td>\n",
       "      <td>55.47</td>\n",
       "    </tr>\n",
       "    <tr>\n",
       "      <th>25</th>\n",
       "      <td>135</td>\n",
       "      <td>54.94</td>\n",
       "    </tr>\n",
       "    <tr>\n",
       "      <th>26</th>\n",
       "      <td>304</td>\n",
       "      <td>53.37</td>\n",
       "    </tr>\n",
       "    <tr>\n",
       "      <th>27</th>\n",
       "      <td>9</td>\n",
       "      <td>52.55</td>\n",
       "    </tr>\n",
       "    <tr>\n",
       "      <th>28</th>\n",
       "      <td>277</td>\n",
       "      <td>52.42</td>\n",
       "    </tr>\n",
       "  </tbody>\n",
       "</table>\n",
       "</div>"
      ],
      "text/plain": [
       "    featureNumber   score\n",
       "0             435 2358.28\n",
       "1              21  593.32\n",
       "2             438  240.65\n",
       "3             434  240.00\n",
       "4              30  217.38\n",
       "5              32  197.09\n",
       "6             114  175.49\n",
       "7               6  164.27\n",
       "8             437  163.22\n",
       "9             440  142.64\n",
       "10            436  125.51\n",
       "11            442   91.08\n",
       "12            408   82.44\n",
       "13            456   79.46\n",
       "14            345   75.43\n",
       "15            186   75.21\n",
       "16            160   74.25\n",
       "17             11   71.62\n",
       "18              0   65.20\n",
       "19             12   59.43\n",
       "20            441   58.93\n",
       "21             25   58.31\n",
       "22            237   57.67\n",
       "23            362   56.07\n",
       "24            433   55.47\n",
       "25            135   54.94\n",
       "26            304   53.37\n",
       "27              9   52.55\n",
       "28            277   52.42"
      ]
     },
     "execution_count": 61,
     "metadata": {},
     "output_type": "execute_result"
    }
   ],
   "source": [
    "score_table.loc[score_table['score']>50]"
   ]
  },
  {
   "cell_type": "markdown",
   "id": "27c21af8",
   "metadata": {},
   "source": [
    "### Feature Importance using mutual_info_classif method example"
   ]
  },
  {
   "cell_type": "markdown",
   "id": "46edb057",
   "metadata": {},
   "source": [
    "##### In our case, relationship between the variables are weak\n"
   ]
  },
  {
   "cell_type": "code",
   "execution_count": 105,
   "id": "88c9281c",
   "metadata": {
    "scrolled": true
   },
   "outputs": [],
   "source": [
    "def select_features(X_train, y_train, X_test):\n",
    "    fs = SelectKBest(score_func=mutual_info_classif, k='all')\n",
    "    fs.fit(X_train, y_train)\n",
    "    X_train_fs = fs.transform(X_train)\n",
    "    X_test_fs = fs.transform(X_test)\n",
    "    return X_train_fs, X_test_fs, fs\n",
    "\n",
    "X_train, X_test, y_train, y_test = train_test_split(X, y, test_size=0.33, random_state=1)\n",
    "X_train_fs, X_test_fs, fs = select_features(X_train, y_train, X_test)"
   ]
  },
  {
   "cell_type": "code",
   "execution_count": 106,
   "id": "67c6eb89",
   "metadata": {},
   "outputs": [],
   "source": [
    "score_table = pd.DataFrame(columns=['score'])\n",
    "score_table['score']=fs.scores_\n",
    "score_table=score_table.reset_index().rename(columns={'index':'featureNumber'})\n",
    "\n",
    "score_table['score'] = round(score_table.score,2)\n",
    "# score_table['feature_names'] = X.columns[fs.get_support()]\n",
    "\n",
    "score_table = score_table.sort_values(by='score',ascending=False,ignore_index=True).fillna(0)"
   ]
  },
  {
   "cell_type": "raw",
   "id": "6ea48b7a",
   "metadata": {},
   "source": [
    "score_table.loc[score_table['score']>50]"
   ]
  },
  {
   "cell_type": "code",
   "execution_count": 107,
   "id": "d0e850b9",
   "metadata": {},
   "outputs": [
    {
     "data": {
      "text/plain": [
       "array([1.11369750e-03, 4.50406886e-03, 2.20265569e-02, 1.26291629e-02,\n",
       "       1.63112086e-03, 3.66406272e-04, 3.79057484e-03, 3.60347829e-04,\n",
       "       0.00000000e+00, 3.82575301e-03, 5.53457541e-04, 5.34981434e-03,\n",
       "       1.62596651e-03, 8.20132935e-04, 0.00000000e+00, 0.00000000e+00,\n",
       "       1.26627563e-03, 0.00000000e+00, 5.90998150e-04, 6.13228742e-04,\n",
       "       1.88767953e-03, 3.52281892e-03, 0.00000000e+00, 0.00000000e+00,\n",
       "       6.36521971e-04, 1.06239293e-02, 0.00000000e+00, 0.00000000e+00,\n",
       "       5.58483329e-05, 0.00000000e+00, 4.91948516e-03, 0.00000000e+00,\n",
       "       5.47215996e-03, 0.00000000e+00, 2.64238099e-03, 5.04569498e-04,\n",
       "       2.35229757e-03, 0.00000000e+00, 8.01505272e-04, 0.00000000e+00,\n",
       "       2.45472309e-04, 0.00000000e+00, 0.00000000e+00, 0.00000000e+00,\n",
       "       0.00000000e+00, 0.00000000e+00, 2.72881024e-04, 0.00000000e+00,\n",
       "       0.00000000e+00, 0.00000000e+00, 1.48975734e-03, 0.00000000e+00,\n",
       "       0.00000000e+00, 0.00000000e+00, 1.29622378e-03, 0.00000000e+00,\n",
       "       5.68483312e-05, 0.00000000e+00, 5.56158293e-04, 0.00000000e+00,\n",
       "       0.00000000e+00, 0.00000000e+00, 5.26380050e-04, 0.00000000e+00,\n",
       "       0.00000000e+00, 5.18656416e-04, 0.00000000e+00, 0.00000000e+00,\n",
       "       0.00000000e+00, 5.17423520e-04, 5.18264301e-04, 8.84455266e-04,\n",
       "       0.00000000e+00, 2.12735912e-05, 1.02468018e-03, 0.00000000e+00,\n",
       "       2.13969039e-04, 0.00000000e+00, 7.93269449e-04, 1.75802265e-03,\n",
       "       9.76945026e-04, 9.13733888e-04, 2.59266458e-03, 0.00000000e+00,\n",
       "       5.13275534e-04, 0.00000000e+00, 0.00000000e+00, 1.09977282e-03,\n",
       "       1.52779236e-03, 0.00000000e+00, 0.00000000e+00, 1.49247547e-04,\n",
       "       4.42015967e-04, 7.95437165e-04, 1.30170850e-03, 2.66178010e-04,\n",
       "       0.00000000e+00, 1.00274547e-03, 3.75797494e-04, 1.96971997e-04,\n",
       "       0.00000000e+00, 8.23094652e-04, 4.12883142e-04, 0.00000000e+00,\n",
       "       0.00000000e+00, 2.08060104e-03, 5.40223854e-04, 2.58344853e-04,\n",
       "       3.38772291e-05, 9.12157841e-04, 1.06947387e-04, 0.00000000e+00,\n",
       "       2.89253000e-03, 2.29265271e-03, 1.15313293e-04, 0.00000000e+00,\n",
       "       2.77020409e-04, 0.00000000e+00, 0.00000000e+00, 0.00000000e+00,\n",
       "       1.37627071e-03, 0.00000000e+00, 1.32768156e-03, 4.19367247e-04,\n",
       "       0.00000000e+00, 1.23456689e-03, 0.00000000e+00, 5.63074333e-04,\n",
       "       0.00000000e+00, 1.73470437e-05, 0.00000000e+00, 8.36621947e-05,\n",
       "       6.90769863e-04, 4.01360998e-04, 2.07570308e-03, 2.03926302e-03,\n",
       "       0.00000000e+00, 0.00000000e+00, 0.00000000e+00, 0.00000000e+00,\n",
       "       0.00000000e+00, 0.00000000e+00, 1.13644697e-04, 1.91039759e-04,\n",
       "       0.00000000e+00, 0.00000000e+00, 7.47704756e-04, 1.55306505e-03,\n",
       "       0.00000000e+00, 9.45397819e-04, 0.00000000e+00, 0.00000000e+00,\n",
       "       8.35499700e-04, 8.86954574e-04, 0.00000000e+00, 7.66170940e-04,\n",
       "       0.00000000e+00, 0.00000000e+00, 0.00000000e+00, 0.00000000e+00,\n",
       "       3.05721793e-04, 0.00000000e+00, 3.98628675e-05, 7.68970958e-04,\n",
       "       5.09541877e-05, 1.50478833e-03, 4.83737773e-04, 7.53227393e-04,\n",
       "       1.03437660e-03, 0.00000000e+00, 0.00000000e+00, 7.53901745e-04,\n",
       "       1.68164295e-03, 0.00000000e+00, 0.00000000e+00, 0.00000000e+00,\n",
       "       0.00000000e+00, 9.59495347e-04, 8.27275598e-04, 0.00000000e+00,\n",
       "       8.53393750e-04, 0.00000000e+00, 1.70263313e-03, 0.00000000e+00,\n",
       "       0.00000000e+00, 1.79945075e-03, 1.30641961e-03, 0.00000000e+00,\n",
       "       0.00000000e+00, 1.96399762e-03, 0.00000000e+00, 1.39229875e-05,\n",
       "       4.62189738e-04, 0.00000000e+00, 0.00000000e+00, 0.00000000e+00,\n",
       "       8.03163715e-04, 6.40948580e-04, 1.18084459e-03, 9.87678647e-04,\n",
       "       8.07589256e-04, 1.32831013e-03, 0.00000000e+00, 0.00000000e+00,\n",
       "       0.00000000e+00, 0.00000000e+00, 0.00000000e+00, 1.56242425e-03,\n",
       "       0.00000000e+00, 1.04599684e-03, 0.00000000e+00, 7.25575191e-04,\n",
       "       0.00000000e+00, 4.69744986e-04, 0.00000000e+00, 0.00000000e+00,\n",
       "       2.55262477e-04, 1.14695698e-03, 0.00000000e+00, 1.92473331e-03,\n",
       "       1.22657209e-04, 6.90302359e-05, 0.00000000e+00, 0.00000000e+00,\n",
       "       2.23534021e-03, 3.08950187e-04, 0.00000000e+00, 0.00000000e+00,\n",
       "       0.00000000e+00, 0.00000000e+00, 1.55249134e-03, 6.21728399e-04,\n",
       "       1.38528692e-03, 6.04710979e-04, 3.28788668e-04, 7.98428883e-04,\n",
       "       0.00000000e+00, 5.94815934e-05, 2.36031331e-03, 0.00000000e+00,\n",
       "       3.38868697e-04, 0.00000000e+00, 0.00000000e+00, 2.32442717e-03,\n",
       "       1.54701293e-03, 0.00000000e+00, 0.00000000e+00, 0.00000000e+00,\n",
       "       0.00000000e+00, 2.50835362e-04, 1.68835197e-03, 0.00000000e+00,\n",
       "       2.18252254e-03, 0.00000000e+00, 2.35021303e-04, 0.00000000e+00,\n",
       "       0.00000000e+00, 0.00000000e+00, 1.83640413e-05, 7.24355572e-04,\n",
       "       0.00000000e+00, 1.82705760e-04, 8.47815008e-04, 0.00000000e+00,\n",
       "       0.00000000e+00, 0.00000000e+00, 0.00000000e+00, 2.22050947e-04,\n",
       "       0.00000000e+00, 3.64140376e-04, 0.00000000e+00, 1.77982031e-04,\n",
       "       0.00000000e+00, 0.00000000e+00, 1.99142152e-03, 8.68783045e-04,\n",
       "       0.00000000e+00, 0.00000000e+00, 2.24124576e-03, 0.00000000e+00,\n",
       "       0.00000000e+00, 0.00000000e+00, 0.00000000e+00, 0.00000000e+00,\n",
       "       0.00000000e+00, 0.00000000e+00, 2.38735888e-04, 5.95809526e-04,\n",
       "       9.54123981e-04, 0.00000000e+00, 0.00000000e+00, 0.00000000e+00,\n",
       "       0.00000000e+00, 4.08621489e-04, 3.07485580e-04, 0.00000000e+00,\n",
       "       3.36849442e-05, 0.00000000e+00, 4.02224285e-04, 1.99891232e-04,\n",
       "       1.12831633e-03, 0.00000000e+00, 0.00000000e+00, 0.00000000e+00,\n",
       "       0.00000000e+00, 0.00000000e+00, 7.26330250e-04, 9.15565798e-04,\n",
       "       1.27885776e-03, 0.00000000e+00, 0.00000000e+00, 1.01118926e-03,\n",
       "       6.61841253e-04, 4.83743403e-04, 1.27099206e-03, 1.69405713e-03,\n",
       "       6.94449070e-04, 2.66695598e-04, 8.95415524e-04, 0.00000000e+00,\n",
       "       1.94421004e-03, 7.18166612e-04, 2.74424090e-03, 3.97723593e-04,\n",
       "       2.34685445e-03, 0.00000000e+00, 3.74907441e-04, 0.00000000e+00,\n",
       "       3.59136384e-04, 5.02103430e-04, 1.26885063e-03, 0.00000000e+00,\n",
       "       9.98652786e-04, 0.00000000e+00, 6.55831201e-04, 0.00000000e+00,\n",
       "       0.00000000e+00, 1.53173437e-03, 1.07292887e-03, 1.95257071e-03,\n",
       "       2.11444357e-03, 0.00000000e+00, 0.00000000e+00, 0.00000000e+00,\n",
       "       0.00000000e+00, 8.30906107e-05, 0.00000000e+00, 2.78936595e-04,\n",
       "       7.98326525e-04, 1.11000441e-03, 8.22098341e-04, 2.16818519e-04,\n",
       "       0.00000000e+00, 7.59143297e-04, 8.17585642e-04, 3.75561179e-04,\n",
       "       7.25409638e-04, 6.85379801e-04, 6.41857787e-04, 0.00000000e+00,\n",
       "       0.00000000e+00, 0.00000000e+00, 0.00000000e+00, 0.00000000e+00,\n",
       "       0.00000000e+00, 0.00000000e+00, 0.00000000e+00, 0.00000000e+00,\n",
       "       0.00000000e+00, 8.92949170e-06, 0.00000000e+00, 1.33502837e-03,\n",
       "       0.00000000e+00, 0.00000000e+00, 1.90424886e-03, 1.56470835e-03,\n",
       "       1.96820678e-03, 0.00000000e+00, 0.00000000e+00, 0.00000000e+00,\n",
       "       1.76938586e-04, 0.00000000e+00, 1.26834101e-03, 1.20761032e-03,\n",
       "       1.92594893e-04, 2.82709757e-03, 3.88426992e-04, 6.97535658e-04,\n",
       "       0.00000000e+00, 2.18386895e-03, 1.95021189e-04, 0.00000000e+00,\n",
       "       0.00000000e+00, 4.63789627e-04, 0.00000000e+00, 5.11828805e-04,\n",
       "       6.98268795e-04, 0.00000000e+00, 6.40702635e-04, 0.00000000e+00,\n",
       "       0.00000000e+00, 1.43094677e-04, 1.30848541e-03, 2.06660414e-03,\n",
       "       4.24409904e-04, 8.16203742e-04, 0.00000000e+00, 0.00000000e+00,\n",
       "       1.92375842e-03, 0.00000000e+00, 4.42974949e-04, 0.00000000e+00,\n",
       "       0.00000000e+00, 0.00000000e+00, 0.00000000e+00, 1.24003719e-03,\n",
       "       8.10905441e-04, 0.00000000e+00, 1.68032178e-03, 2.68708705e-04,\n",
       "       1.44401197e-03, 1.26324154e-03, 2.37258557e-04, 0.00000000e+00,\n",
       "       0.00000000e+00, 0.00000000e+00, 5.62122516e-05, 0.00000000e+00,\n",
       "       0.00000000e+00, 3.07236793e-04, 3.72909916e-03, 6.95066398e-04,\n",
       "       1.65670419e-03, 3.59813563e-03, 2.93956830e-03, 1.42193169e-02,\n",
       "       3.07411780e-04, 1.89440058e-03, 1.68817060e-03, 1.36391155e-03,\n",
       "       3.60401824e-03, 0.00000000e+00, 0.00000000e+00, 0.00000000e+00,\n",
       "       0.00000000e+00, 0.00000000e+00, 5.09090471e-04, 0.00000000e+00,\n",
       "       0.00000000e+00, 0.00000000e+00, 0.00000000e+00, 0.00000000e+00,\n",
       "       2.25227196e-04, 0.00000000e+00, 0.00000000e+00, 0.00000000e+00,\n",
       "       1.41341060e-03, 1.39053617e-04])"
      ]
     },
     "execution_count": 107,
     "metadata": {},
     "output_type": "execute_result"
    }
   ],
   "source": [
    "fs.scores_"
   ]
  },
  {
   "cell_type": "markdown",
   "id": "4a63ce67",
   "metadata": {},
   "source": [
    "## Prediction"
   ]
  },
  {
   "cell_type": "code",
   "execution_count": 248,
   "id": "22d36af6",
   "metadata": {},
   "outputs": [],
   "source": [
    "# Preparing the data \n",
    "X.drop(['living_region','test','client_id'], axis=1,inplace=True)"
   ]
  },
  {
   "cell_type": "code",
   "execution_count": 249,
   "id": "5e70c0a3",
   "metadata": {},
   "outputs": [],
   "source": [
    "ct = ColumnTransformer([('one-hot-encoder', OneHotEncoder(drop='first'), ['gender', 'marital_status',\n",
    "                                                                         'job_position','tariff_id',\n",
    "                                                                         'education','living_region_cleaned'])], remainder='passthrough')\n",
    "\n",
    "X=ct.fit_transform(X)"
   ]
  },
  {
   "cell_type": "code",
   "execution_count": 251,
   "id": "6d19be15",
   "metadata": {},
   "outputs": [
    {
     "data": {
      "text/plain": [
       "['encoder.joblib']"
      ]
     },
     "execution_count": 251,
     "metadata": {},
     "output_type": "execute_result"
    }
   ],
   "source": [
    "#saving the encoding\n",
    "joblib.dump(ct, 'encoder.joblib')"
   ]
  },
  {
   "cell_type": "markdown",
   "id": "0b60cc7c",
   "metadata": {},
   "source": [
    "------"
   ]
  },
  {
   "cell_type": "markdown",
   "id": "382c2002",
   "metadata": {},
   "source": [
    "# Testing the saved encoding"
   ]
  },
  {
   "cell_type": "code",
   "execution_count": 256,
   "id": "414a2f2b",
   "metadata": {},
   "outputs": [],
   "source": [
    "X_enc = credit_all.loc[credit_all['test']==False].copy()"
   ]
  },
  {
   "cell_type": "code",
   "execution_count": 258,
   "id": "e0cd9d83",
   "metadata": {},
   "outputs": [],
   "source": [
    "X_enc.drop(['living_region','test','client_id'], axis=1,inplace=True)"
   ]
  },
  {
   "cell_type": "code",
   "execution_count": 259,
   "id": "c4c0efdb",
   "metadata": {},
   "outputs": [],
   "source": [
    "enc = joblib.load('encoder.joblib')\n",
    "X_enc=enc.fit_transform(X_enc)"
   ]
  },
  {
   "cell_type": "markdown",
   "id": "e9613655",
   "metadata": {},
   "source": [
    "----"
   ]
  },
  {
   "cell_type": "markdown",
   "id": "9624c4cc",
   "metadata": {},
   "source": [
    "#### DecisionTreeClassifier"
   ]
  },
  {
   "cell_type": "code",
   "execution_count": 250,
   "id": "be0b1c01",
   "metadata": {},
   "outputs": [
    {
     "name": "stdout",
     "output_type": "stream",
     "text": [
      "Fitting 5 folds for each of 12 candidates, totalling 60 fits\n",
      "              precision    recall  f1-score   support\n",
      "\n",
      "           0       0.84      0.98      0.91     32383\n",
      "           1       0.45      0.06      0.11      6387\n",
      "\n",
      "    accuracy                           0.83     38770\n",
      "   macro avg       0.65      0.52      0.51     38770\n",
      "weighted avg       0.78      0.83      0.78     38770\n",
      "\n"
     ]
    }
   ],
   "source": [
    "X_train, X_test, y_train, y_test = train_test_split(X, y, test_size=0.3, stratify=y)\n",
    "\n",
    "tree = DecisionTreeClassifier()\n",
    "\n",
    "params_tree = {'max_depth' : [5, 10, 15],\n",
    "               'min_samples_split' : [5, 10, 20, 50]}\n",
    "\n",
    "tree_model = GridSearchCV(tree, params_tree, cv=5, n_jobs=-1, verbose=1, scoring='roc_auc').fit(X_train, y_train).best_estimator_\n",
    "\n",
    "print(classification_report(y_test, tree_model.predict(X_test)))"
   ]
  },
  {
   "cell_type": "code",
   "execution_count": 252,
   "id": "a257d46b",
   "metadata": {},
   "outputs": [],
   "source": [
    "cm = confusion_matrix(y_test,tree_model.predict(X_test))"
   ]
  },
  {
   "cell_type": "code",
   "execution_count": 253,
   "id": "fbcb3971",
   "metadata": {},
   "outputs": [
    {
     "data": {
      "image/png": "[encoded data removed]",
      "text/plain": [
       "<Figure size 432x288 with 2 Axes>"
      ]
     },
     "metadata": {
      "needs_background": "light"
     },
     "output_type": "display_data"
    }
   ],
   "source": [
    "sns.heatmap(cm,\n",
    "            annot=True,\n",
    "            fmt='g')\n",
    "plt.ylabel('Prediction',fontsize=13)\n",
    "plt.xlabel('Actual',fontsize=13)\n",
    "plt.title('Confusion Matrix',fontsize=17)\n",
    "plt.show()"
   ]
  },
  {
   "cell_type": "code",
   "execution_count": 254,
   "id": "ab6c75ed",
   "metadata": {
    "scrolled": true
   },
   "outputs": [
    {
     "data": {
      "image/png": "[encoded data removed]",
      "text/plain": [
       "<Figure size 432x288 with 1 Axes>"
      ]
     },
     "metadata": {
      "needs_background": "light"
     },
     "output_type": "display_data"
    }
   ],
   "source": [
    "plot_roc_curve(tree_model, X_test, y_test);"
   ]
  },
  {
   "cell_type": "code",
   "execution_count": 255,
   "id": "c78c4c34",
   "metadata": {},
   "outputs": [
    {
     "name": "stdout",
     "output_type": "stream",
     "text": [
      "Mean ROC AUC: 0.72534\n"
     ]
    }
   ],
   "source": [
    "scores = cross_val_score(tree_model, X, y, scoring='roc_auc', cv=3, n_jobs=-1)\n",
    "# summarize performance\n",
    "print('Mean ROC AUC: %.5f' % mean(scores))"
   ]
  },
  {
   "cell_type": "markdown",
   "id": "dfa52b73",
   "metadata": {},
   "source": [
    "#### XGBoost"
   ]
  },
  {
   "cell_type": "markdown",
   "id": "04112631",
   "metadata": {},
   "source": [
    "We have improved our model by the help of:\n",
    "1. Boosting algorithm\n",
    "2. GridSearchCV (Unfortunately, it takes a lot of time to train on more parameters)"
   ]
  },
  {
   "cell_type": "code",
   "execution_count": 228,
   "id": "3cadc855",
   "metadata": {},
   "outputs": [
    {
     "name": "stdout",
     "output_type": "stream",
     "text": [
      "Fitting 3 folds for each of 1 candidates, totalling 3 fits\n"
     ]
    },
    {
     "name": "stderr",
     "output_type": "stream",
     "text": [
      "/Users/Bonu/opt/miniconda3/lib/python3.9/site-packages/xgboost/sklearn.py:1224: UserWarning: The use of label encoder in XGBClassifier is deprecated and will be removed in a future release. To remove this warning, do the following: 1) Pass option use_label_encoder=False when constructing XGBClassifier object; and 2) Encode your labels (y) as integers starting with 0, i.e. 0, 1, 2, ..., [num_class - 1].\n",
      "  warnings.warn(label_encoder_deprecation_msg, UserWarning)\n"
     ]
    },
    {
     "name": "stdout",
     "output_type": "stream",
     "text": [
      "[22:14:13] WARNING: ../src/learner.cc:1115: Starting in XGBoost 1.3.0, the default evaluation metric used with the objective 'binary:logistic' was changed from 'error' to 'logloss'. Explicitly set eval_metric if you'd like to restore the old behavior.\n",
      "              precision    recall  f1-score   support\n",
      "\n",
      "           0       0.92      0.68      0.78     32383\n",
      "           1       0.30      0.69      0.42      6387\n",
      "\n",
      "    accuracy                           0.68     38770\n",
      "   macro avg       0.61      0.69      0.60     38770\n",
      "weighted avg       0.82      0.68      0.72     38770\n",
      "\n"
     ]
    }
   ],
   "source": [
    "xgb = XGBClassifier()\n",
    "\n",
    "params_xgb = {'max_depth' : [3], # [3,5,8,10,12,15]\n",
    "             'scale_pos_weight': [np.sum(y == 0) / float(np.sum(y == 1))] # [10,20,30,40,50,60,100]}\n",
    "\n",
    "'''\n",
    "                    scale_pos_weight --> # of positive samples * sample_pos_weight = # of negative samples\n",
    "                                        \n",
    "np.sum(y == 0) / float(np.sum(y == 1)) --> sample_pos_weight = # of negative samples / # of positive samples \n",
    "\n",
    "It helps to improve the performance on positive class. So, in my opinion that's the reason our model has improved\n",
    "for positive classes a bit and increased our mean ROC AUC from 0.726 to 0.758\n",
    "'''\n",
    "\n",
    "xgb_model = GridSearchCV(xgb, params_xgb, cv=3, verbose=1, n_jobs=-1, scoring='roc_auc').fit(X_train, y_train).best_estimator_\n",
    "\n",
    "print(classification_report(y_test, xgb_model.predict(X_test)))"
   ]
  },
  {
   "cell_type": "code",
   "execution_count": 229,
   "id": "55ea4e3f",
   "metadata": {},
   "outputs": [
    {
     "data": {
      "image/png": "[encoded data removed]",
      "text/plain": [
       "<Figure size 432x288 with 2 Axes>"
      ]
     },
     "metadata": {
      "needs_background": "light"
     },
     "output_type": "display_data"
    }
   ],
   "source": [
    "cm = confusion_matrix(y_test,xgb_model.predict(X_test))\n",
    "sns.heatmap(cm,\n",
    "            annot=True,\n",
    "            fmt='g')\n",
    "plt.ylabel('Prediction',fontsize=13)\n",
    "plt.xlabel('Actual',fontsize=13)\n",
    "plt.title('Confusion Matrix',fontsize=17)\n",
    "plt.show()"
   ]
  },
  {
   "cell_type": "code",
   "execution_count": 230,
   "id": "272f9465",
   "metadata": {
    "scrolled": true
   },
   "outputs": [
    {
     "name": "stdout",
     "output_type": "stream",
     "text": [
      "Mean ROC AUC: 0.75615\n"
     ]
    }
   ],
   "source": [
    "scores = cross_val_score(xgb_model, X, y, scoring='roc_auc', cv=3, n_jobs=-1)\n",
    "# summarize performance\n",
    "print('Mean ROC AUC: %.5f' % mean(scores))"
   ]
  },
  {
   "cell_type": "markdown",
   "id": "3a49acfd",
   "metadata": {},
   "source": [
    "# Saving and testing the model"
   ]
  },
  {
   "cell_type": "code",
   "execution_count": 268,
   "id": "2eaacf7f",
   "metadata": {},
   "outputs": [
    {
     "data": {
      "text/plain": [
       "['xgb_model.joblib']"
      ]
     },
     "execution_count": 268,
     "metadata": {},
     "output_type": "execute_result"
    }
   ],
   "source": [
    "joblib.dump(xgb_model, 'xgb_model.joblib')"
   ]
  },
  {
   "cell_type": "code",
   "execution_count": 269,
   "id": "9e8af37c",
   "metadata": {},
   "outputs": [],
   "source": [
    "xgb_m = joblib.load('xgb_model.joblib')"
   ]
  },
  {
   "cell_type": "code",
   "execution_count": 296,
   "id": "76ca3e78",
   "metadata": {},
   "outputs": [
    {
     "data": {
      "text/plain": [
       "0"
      ]
     },
     "execution_count": 296,
     "metadata": {},
     "output_type": "execute_result"
    }
   ],
   "source": [
    "xgb_m.predict(X_train[2])"
   ]
  },
  {
   "cell_type": "markdown",
   "id": "7bc20de6",
   "metadata": {},
   "source": [
    "------"
   ]
  },
  {
   "cell_type": "markdown",
   "id": "5d1a8087",
   "metadata": {},
   "source": [
    "__Hope you'll help to test the following peace of code for me :) (Due to low performance of my laptop, I had to stop the trainning)__\n",
    "\n",
    "- The main difference is in \"RepeatedStratifiedKFold\", which splits the dataset as \"StratifiedKFold\" does. \n",
    "- But it splits (splits in such way that the splitted dataset is balanced) and trains the same dataset several times (in our case it repeats for 3 times on 10 splitted datasets), accordingly it performs better than \"StratifiedKFold\".\n"
   ]
  },
  {
   "cell_type": "code",
   "execution_count": 71,
   "id": "1a594422",
   "metadata": {
    "scrolled": true
   },
   "outputs": [
    {
     "ename": "KeyboardInterrupt",
     "evalue": "",
     "output_type": "error",
     "traceback": [
      "\u001b[0;31m---------------------------------------------------------------------------\u001b[0m",
      "\u001b[0;31mKeyboardInterrupt\u001b[0m                         Traceback (most recent call last)",
      "\u001b[0;32m~/opt/miniconda3/lib/python3.9/site-packages/joblib/parallel.py\u001b[0m in \u001b[0;36mretrieve\u001b[0;34m(self)\u001b[0m\n\u001b[1;32m    934\u001b[0m                 \u001b[0;32mif\u001b[0m \u001b[0mgetattr\u001b[0m\u001b[0;34m(\u001b[0m\u001b[0mself\u001b[0m\u001b[0;34m.\u001b[0m\u001b[0m_backend\u001b[0m\u001b[0;34m,\u001b[0m \u001b[0;34m'supports_timeout'\u001b[0m\u001b[0;34m,\u001b[0m \u001b[0;32mFalse\u001b[0m\u001b[0;34m)\u001b[0m\u001b[0;34m:\u001b[0m\u001b[0;34m\u001b[0m\u001b[0;34m\u001b[0m\u001b[0m\n\u001b[0;32m--> 935\u001b[0;31m                     \u001b[0mself\u001b[0m\u001b[0;34m.\u001b[0m\u001b[0m_output\u001b[0m\u001b[0;34m.\u001b[0m\u001b[0mextend\u001b[0m\u001b[0;34m(\u001b[0m\u001b[0mjob\u001b[0m\u001b[0;34m.\u001b[0m\u001b[0mget\u001b[0m\u001b[0;34m(\u001b[0m\u001b[0mtimeout\u001b[0m\u001b[0;34m=\u001b[0m\u001b[0mself\u001b[0m\u001b[0;34m.\u001b[0m\u001b[0mtimeout\u001b[0m\u001b[0;34m)\u001b[0m\u001b[0;34m)\u001b[0m\u001b[0;34m\u001b[0m\u001b[0;34m\u001b[0m\u001b[0m\n\u001b[0m\u001b[1;32m    936\u001b[0m                 \u001b[0;32melse\u001b[0m\u001b[0;34m:\u001b[0m\u001b[0;34m\u001b[0m\u001b[0;34m\u001b[0m\u001b[0m\n",
      "\u001b[0;32m~/opt/miniconda3/lib/python3.9/site-packages/joblib/_parallel_backends.py\u001b[0m in \u001b[0;36mwrap_future_result\u001b[0;34m(future, timeout)\u001b[0m\n\u001b[1;32m    541\u001b[0m         \u001b[0;32mtry\u001b[0m\u001b[0;34m:\u001b[0m\u001b[0;34m\u001b[0m\u001b[0;34m\u001b[0m\u001b[0m\n\u001b[0;32m--> 542\u001b[0;31m             \u001b[0;32mreturn\u001b[0m \u001b[0mfuture\u001b[0m\u001b[0;34m.\u001b[0m\u001b[0mresult\u001b[0m\u001b[0;34m(\u001b[0m\u001b[0mtimeout\u001b[0m\u001b[0;34m=\u001b[0m\u001b[0mtimeout\u001b[0m\u001b[0;34m)\u001b[0m\u001b[0;34m\u001b[0m\u001b[0;34m\u001b[0m\u001b[0m\n\u001b[0m\u001b[1;32m    543\u001b[0m         \u001b[0;32mexcept\u001b[0m \u001b[0mCfTimeoutError\u001b[0m \u001b[0;32mas\u001b[0m \u001b[0me\u001b[0m\u001b[0;34m:\u001b[0m\u001b[0;34m\u001b[0m\u001b[0;34m\u001b[0m\u001b[0m\n",
      "\u001b[0;32m~/opt/miniconda3/lib/python3.9/concurrent/futures/_base.py\u001b[0m in \u001b[0;36mresult\u001b[0;34m(self, timeout)\u001b[0m\n\u001b[1;32m    439\u001b[0m \u001b[0;34m\u001b[0m\u001b[0m\n\u001b[0;32m--> 440\u001b[0;31m                 \u001b[0mself\u001b[0m\u001b[0;34m.\u001b[0m\u001b[0m_condition\u001b[0m\u001b[0;34m.\u001b[0m\u001b[0mwait\u001b[0m\u001b[0;34m(\u001b[0m\u001b[0mtimeout\u001b[0m\u001b[0;34m)\u001b[0m\u001b[0;34m\u001b[0m\u001b[0;34m\u001b[0m\u001b[0m\n\u001b[0m\u001b[1;32m    441\u001b[0m \u001b[0;34m\u001b[0m\u001b[0m\n",
      "\u001b[0;32m~/opt/miniconda3/lib/python3.9/threading.py\u001b[0m in \u001b[0;36mwait\u001b[0;34m(self, timeout)\u001b[0m\n\u001b[1;32m    311\u001b[0m             \u001b[0;32mif\u001b[0m \u001b[0mtimeout\u001b[0m \u001b[0;32mis\u001b[0m \u001b[0;32mNone\u001b[0m\u001b[0;34m:\u001b[0m\u001b[0;34m\u001b[0m\u001b[0;34m\u001b[0m\u001b[0m\n\u001b[0;32m--> 312\u001b[0;31m                 \u001b[0mwaiter\u001b[0m\u001b[0;34m.\u001b[0m\u001b[0macquire\u001b[0m\u001b[0;34m(\u001b[0m\u001b[0;34m)\u001b[0m\u001b[0;34m\u001b[0m\u001b[0;34m\u001b[0m\u001b[0m\n\u001b[0m\u001b[1;32m    313\u001b[0m                 \u001b[0mgotit\u001b[0m \u001b[0;34m=\u001b[0m \u001b[0;32mTrue\u001b[0m\u001b[0;34m\u001b[0m\u001b[0;34m\u001b[0m\u001b[0m\n",
      "\u001b[0;31mKeyboardInterrupt\u001b[0m: ",
      "\nDuring handling of the above exception, another exception occurred:\n",
      "\u001b[0;31mKeyboardInterrupt\u001b[0m                         Traceback (most recent call last)",
      "\u001b[0;32m<ipython-input-71-6b08dcacf3ff>\u001b[0m in \u001b[0;36m<module>\u001b[0;34m\u001b[0m\n\u001b[1;32m     13\u001b[0m \u001b[0;34m\u001b[0m\u001b[0m\n\u001b[1;32m     14\u001b[0m \u001b[0;31m# execute the grid search\u001b[0m\u001b[0;34m\u001b[0m\u001b[0;34m\u001b[0m\u001b[0;34m\u001b[0m\u001b[0m\n\u001b[0;32m---> 15\u001b[0;31m \u001b[0mgrid_result\u001b[0m \u001b[0;34m=\u001b[0m \u001b[0mgrid\u001b[0m\u001b[0;34m.\u001b[0m\u001b[0mfit\u001b[0m\u001b[0;34m(\u001b[0m\u001b[0mX\u001b[0m\u001b[0;34m,\u001b[0m \u001b[0my\u001b[0m\u001b[0;34m)\u001b[0m\u001b[0;34m\u001b[0m\u001b[0;34m\u001b[0m\u001b[0m\n\u001b[0m\u001b[1;32m     16\u001b[0m \u001b[0;34m\u001b[0m\u001b[0m\n\u001b[1;32m     17\u001b[0m \u001b[0;31m# report the best configuration\u001b[0m\u001b[0;34m\u001b[0m\u001b[0;34m\u001b[0m\u001b[0;34m\u001b[0m\u001b[0m\n",
      "\u001b[0;32m~/opt/miniconda3/lib/python3.9/site-packages/sklearn/model_selection/_search.py\u001b[0m in \u001b[0;36mfit\u001b[0;34m(self, X, y, groups, **fit_params)\u001b[0m\n\u001b[1;32m    889\u001b[0m                 \u001b[0;32mreturn\u001b[0m \u001b[0mresults\u001b[0m\u001b[0;34m\u001b[0m\u001b[0;34m\u001b[0m\u001b[0m\n\u001b[1;32m    890\u001b[0m \u001b[0;34m\u001b[0m\u001b[0m\n\u001b[0;32m--> 891\u001b[0;31m             \u001b[0mself\u001b[0m\u001b[0;34m.\u001b[0m\u001b[0m_run_search\u001b[0m\u001b[0;34m(\u001b[0m\u001b[0mevaluate_candidates\u001b[0m\u001b[0;34m)\u001b[0m\u001b[0;34m\u001b[0m\u001b[0;34m\u001b[0m\u001b[0m\n\u001b[0m\u001b[1;32m    892\u001b[0m \u001b[0;34m\u001b[0m\u001b[0m\n\u001b[1;32m    893\u001b[0m             \u001b[0;31m# multimetric is determined here because in the case of a callable\u001b[0m\u001b[0;34m\u001b[0m\u001b[0;34m\u001b[0m\u001b[0;34m\u001b[0m\u001b[0m\n",
      "\u001b[0;32m~/opt/miniconda3/lib/python3.9/site-packages/sklearn/model_selection/_search.py\u001b[0m in \u001b[0;36m_run_search\u001b[0;34m(self, evaluate_candidates)\u001b[0m\n\u001b[1;32m   1390\u001b[0m     \u001b[0;32mdef\u001b[0m \u001b[0m_run_search\u001b[0m\u001b[0;34m(\u001b[0m\u001b[0mself\u001b[0m\u001b[0;34m,\u001b[0m \u001b[0mevaluate_candidates\u001b[0m\u001b[0;34m)\u001b[0m\u001b[0;34m:\u001b[0m\u001b[0;34m\u001b[0m\u001b[0;34m\u001b[0m\u001b[0m\n\u001b[1;32m   1391\u001b[0m         \u001b[0;34m\"\"\"Search all candidates in param_grid\"\"\"\u001b[0m\u001b[0;34m\u001b[0m\u001b[0;34m\u001b[0m\u001b[0m\n\u001b[0;32m-> 1392\u001b[0;31m         \u001b[0mevaluate_candidates\u001b[0m\u001b[0;34m(\u001b[0m\u001b[0mParameterGrid\u001b[0m\u001b[0;34m(\u001b[0m\u001b[0mself\u001b[0m\u001b[0;34m.\u001b[0m\u001b[0mparam_grid\u001b[0m\u001b[0;34m)\u001b[0m\u001b[0;34m)\u001b[0m\u001b[0;34m\u001b[0m\u001b[0;34m\u001b[0m\u001b[0m\n\u001b[0m\u001b[1;32m   1393\u001b[0m \u001b[0;34m\u001b[0m\u001b[0m\n\u001b[1;32m   1394\u001b[0m \u001b[0;34m\u001b[0m\u001b[0m\n",
      "\u001b[0;32m~/opt/miniconda3/lib/python3.9/site-packages/sklearn/model_selection/_search.py\u001b[0m in \u001b[0;36mevaluate_candidates\u001b[0;34m(candidate_params, cv, more_results)\u001b[0m\n\u001b[1;32m    836\u001b[0m                     )\n\u001b[1;32m    837\u001b[0m \u001b[0;34m\u001b[0m\u001b[0m\n\u001b[0;32m--> 838\u001b[0;31m                 out = parallel(\n\u001b[0m\u001b[1;32m    839\u001b[0m                     delayed(_fit_and_score)(\n\u001b[1;32m    840\u001b[0m                         \u001b[0mclone\u001b[0m\u001b[0;34m(\u001b[0m\u001b[0mbase_estimator\u001b[0m\u001b[0;34m)\u001b[0m\u001b[0;34m,\u001b[0m\u001b[0;34m\u001b[0m\u001b[0;34m\u001b[0m\u001b[0m\n",
      "\u001b[0;32m~/opt/miniconda3/lib/python3.9/site-packages/joblib/parallel.py\u001b[0m in \u001b[0;36m__call__\u001b[0;34m(self, iterable)\u001b[0m\n\u001b[1;32m   1054\u001b[0m \u001b[0;34m\u001b[0m\u001b[0m\n\u001b[1;32m   1055\u001b[0m             \u001b[0;32mwith\u001b[0m \u001b[0mself\u001b[0m\u001b[0;34m.\u001b[0m\u001b[0m_backend\u001b[0m\u001b[0;34m.\u001b[0m\u001b[0mretrieval_context\u001b[0m\u001b[0;34m(\u001b[0m\u001b[0;34m)\u001b[0m\u001b[0;34m:\u001b[0m\u001b[0;34m\u001b[0m\u001b[0;34m\u001b[0m\u001b[0m\n\u001b[0;32m-> 1056\u001b[0;31m                 \u001b[0mself\u001b[0m\u001b[0;34m.\u001b[0m\u001b[0mretrieve\u001b[0m\u001b[0;34m(\u001b[0m\u001b[0;34m)\u001b[0m\u001b[0;34m\u001b[0m\u001b[0;34m\u001b[0m\u001b[0m\n\u001b[0m\u001b[1;32m   1057\u001b[0m             \u001b[0;31m# Make sure that we get a last message telling us we are done\u001b[0m\u001b[0;34m\u001b[0m\u001b[0;34m\u001b[0m\u001b[0;34m\u001b[0m\u001b[0m\n\u001b[1;32m   1058\u001b[0m             \u001b[0melapsed_time\u001b[0m \u001b[0;34m=\u001b[0m \u001b[0mtime\u001b[0m\u001b[0;34m.\u001b[0m\u001b[0mtime\u001b[0m\u001b[0;34m(\u001b[0m\u001b[0;34m)\u001b[0m \u001b[0;34m-\u001b[0m \u001b[0mself\u001b[0m\u001b[0;34m.\u001b[0m\u001b[0m_start_time\u001b[0m\u001b[0;34m\u001b[0m\u001b[0;34m\u001b[0m\u001b[0m\n",
      "\u001b[0;32m~/opt/miniconda3/lib/python3.9/site-packages/joblib/parallel.py\u001b[0m in \u001b[0;36mretrieve\u001b[0;34m(self)\u001b[0m\n\u001b[1;32m    955\u001b[0m                     \u001b[0;31m# scheduling.\u001b[0m\u001b[0;34m\u001b[0m\u001b[0;34m\u001b[0m\u001b[0;34m\u001b[0m\u001b[0m\n\u001b[1;32m    956\u001b[0m                     \u001b[0mensure_ready\u001b[0m \u001b[0;34m=\u001b[0m \u001b[0mself\u001b[0m\u001b[0;34m.\u001b[0m\u001b[0m_managed_backend\u001b[0m\u001b[0;34m\u001b[0m\u001b[0;34m\u001b[0m\u001b[0m\n\u001b[0;32m--> 957\u001b[0;31m                     \u001b[0mbackend\u001b[0m\u001b[0;34m.\u001b[0m\u001b[0mabort_everything\u001b[0m\u001b[0;34m(\u001b[0m\u001b[0mensure_ready\u001b[0m\u001b[0;34m=\u001b[0m\u001b[0mensure_ready\u001b[0m\u001b[0;34m)\u001b[0m\u001b[0;34m\u001b[0m\u001b[0;34m\u001b[0m\u001b[0m\n\u001b[0m\u001b[1;32m    958\u001b[0m                 \u001b[0;32mraise\u001b[0m\u001b[0;34m\u001b[0m\u001b[0;34m\u001b[0m\u001b[0m\n\u001b[1;32m    959\u001b[0m \u001b[0;34m\u001b[0m\u001b[0m\n",
      "\u001b[0;32m~/opt/miniconda3/lib/python3.9/site-packages/joblib/_parallel_backends.py\u001b[0m in \u001b[0;36mabort_everything\u001b[0;34m(self, ensure_ready)\u001b[0m\n\u001b[1;32m    559\u001b[0m         \"\"\"Shutdown the workers and restart a new one with the same parameters\n\u001b[1;32m    560\u001b[0m         \"\"\"\n\u001b[0;32m--> 561\u001b[0;31m         \u001b[0mself\u001b[0m\u001b[0;34m.\u001b[0m\u001b[0m_workers\u001b[0m\u001b[0;34m.\u001b[0m\u001b[0mterminate\u001b[0m\u001b[0;34m(\u001b[0m\u001b[0mkill_workers\u001b[0m\u001b[0;34m=\u001b[0m\u001b[0;32mTrue\u001b[0m\u001b[0;34m)\u001b[0m\u001b[0;34m\u001b[0m\u001b[0;34m\u001b[0m\u001b[0m\n\u001b[0m\u001b[1;32m    562\u001b[0m         \u001b[0mself\u001b[0m\u001b[0;34m.\u001b[0m\u001b[0m_workers\u001b[0m \u001b[0;34m=\u001b[0m \u001b[0;32mNone\u001b[0m\u001b[0;34m\u001b[0m\u001b[0;34m\u001b[0m\u001b[0m\n\u001b[1;32m    563\u001b[0m \u001b[0;34m\u001b[0m\u001b[0m\n",
      "\u001b[0;32m~/opt/miniconda3/lib/python3.9/site-packages/joblib/executor.py\u001b[0m in \u001b[0;36mterminate\u001b[0;34m(self, kill_workers)\u001b[0m\n\u001b[1;32m     72\u001b[0m \u001b[0;34m\u001b[0m\u001b[0m\n\u001b[1;32m     73\u001b[0m     \u001b[0;32mdef\u001b[0m \u001b[0mterminate\u001b[0m\u001b[0;34m(\u001b[0m\u001b[0mself\u001b[0m\u001b[0;34m,\u001b[0m \u001b[0mkill_workers\u001b[0m\u001b[0;34m=\u001b[0m\u001b[0;32mFalse\u001b[0m\u001b[0;34m)\u001b[0m\u001b[0;34m:\u001b[0m\u001b[0;34m\u001b[0m\u001b[0;34m\u001b[0m\u001b[0m\n\u001b[0;32m---> 74\u001b[0;31m         \u001b[0mself\u001b[0m\u001b[0;34m.\u001b[0m\u001b[0mshutdown\u001b[0m\u001b[0;34m(\u001b[0m\u001b[0mkill_workers\u001b[0m\u001b[0;34m=\u001b[0m\u001b[0mkill_workers\u001b[0m\u001b[0;34m)\u001b[0m\u001b[0;34m\u001b[0m\u001b[0;34m\u001b[0m\u001b[0m\n\u001b[0m\u001b[1;32m     75\u001b[0m         \u001b[0;32mif\u001b[0m \u001b[0mkill_workers\u001b[0m\u001b[0;34m:\u001b[0m\u001b[0;34m\u001b[0m\u001b[0;34m\u001b[0m\u001b[0m\n\u001b[1;32m     76\u001b[0m             \u001b[0;31m# When workers are killed in such a brutal manner, they cannot\u001b[0m\u001b[0;34m\u001b[0m\u001b[0;34m\u001b[0m\u001b[0;34m\u001b[0m\u001b[0m\n",
      "\u001b[0;32m~/opt/miniconda3/lib/python3.9/site-packages/joblib/externals/loky/process_executor.py\u001b[0m in \u001b[0;36mshutdown\u001b[0;34m(self, wait, kill_workers)\u001b[0m\n\u001b[1;32m   1183\u001b[0m \u001b[0;34m\u001b[0m\u001b[0m\n\u001b[1;32m   1184\u001b[0m         \u001b[0;32mif\u001b[0m \u001b[0mexecutor_manager_thread\u001b[0m \u001b[0;32mis\u001b[0m \u001b[0;32mnot\u001b[0m \u001b[0;32mNone\u001b[0m \u001b[0;32mand\u001b[0m \u001b[0mwait\u001b[0m\u001b[0;34m:\u001b[0m\u001b[0;34m\u001b[0m\u001b[0;34m\u001b[0m\u001b[0m\n\u001b[0;32m-> 1185\u001b[0;31m             \u001b[0mexecutor_manager_thread\u001b[0m\u001b[0;34m.\u001b[0m\u001b[0mjoin\u001b[0m\u001b[0;34m(\u001b[0m\u001b[0;34m)\u001b[0m\u001b[0;34m\u001b[0m\u001b[0;34m\u001b[0m\u001b[0m\n\u001b[0m\u001b[1;32m   1186\u001b[0m \u001b[0;34m\u001b[0m\u001b[0m\n\u001b[1;32m   1187\u001b[0m         \u001b[0;31m# To reduce the risk of opening too many files, remove references to\u001b[0m\u001b[0;34m\u001b[0m\u001b[0;34m\u001b[0m\u001b[0;34m\u001b[0m\u001b[0m\n",
      "\u001b[0;32m~/opt/miniconda3/lib/python3.9/threading.py\u001b[0m in \u001b[0;36mjoin\u001b[0;34m(self, timeout)\u001b[0m\n\u001b[1;32m   1031\u001b[0m \u001b[0;34m\u001b[0m\u001b[0m\n\u001b[1;32m   1032\u001b[0m         \u001b[0;32mif\u001b[0m \u001b[0mtimeout\u001b[0m \u001b[0;32mis\u001b[0m \u001b[0;32mNone\u001b[0m\u001b[0;34m:\u001b[0m\u001b[0;34m\u001b[0m\u001b[0;34m\u001b[0m\u001b[0m\n\u001b[0;32m-> 1033\u001b[0;31m             \u001b[0mself\u001b[0m\u001b[0;34m.\u001b[0m\u001b[0m_wait_for_tstate_lock\u001b[0m\u001b[0;34m(\u001b[0m\u001b[0;34m)\u001b[0m\u001b[0;34m\u001b[0m\u001b[0;34m\u001b[0m\u001b[0m\n\u001b[0m\u001b[1;32m   1034\u001b[0m         \u001b[0;32melse\u001b[0m\u001b[0;34m:\u001b[0m\u001b[0;34m\u001b[0m\u001b[0;34m\u001b[0m\u001b[0m\n\u001b[1;32m   1035\u001b[0m             \u001b[0;31m# the behavior of a negative timeout isn't documented, but\u001b[0m\u001b[0;34m\u001b[0m\u001b[0;34m\u001b[0m\u001b[0;34m\u001b[0m\u001b[0m\n",
      "\u001b[0;32m~/opt/miniconda3/lib/python3.9/threading.py\u001b[0m in \u001b[0;36m_wait_for_tstate_lock\u001b[0;34m(self, block, timeout)\u001b[0m\n\u001b[1;32m   1047\u001b[0m         \u001b[0;32mif\u001b[0m \u001b[0mlock\u001b[0m \u001b[0;32mis\u001b[0m \u001b[0;32mNone\u001b[0m\u001b[0;34m:\u001b[0m  \u001b[0;31m# already determined that the C code is done\u001b[0m\u001b[0;34m\u001b[0m\u001b[0;34m\u001b[0m\u001b[0m\n\u001b[1;32m   1048\u001b[0m             \u001b[0;32massert\u001b[0m \u001b[0mself\u001b[0m\u001b[0;34m.\u001b[0m\u001b[0m_is_stopped\u001b[0m\u001b[0;34m\u001b[0m\u001b[0;34m\u001b[0m\u001b[0m\n\u001b[0;32m-> 1049\u001b[0;31m         \u001b[0;32melif\u001b[0m \u001b[0mlock\u001b[0m\u001b[0;34m.\u001b[0m\u001b[0macquire\u001b[0m\u001b[0;34m(\u001b[0m\u001b[0mblock\u001b[0m\u001b[0;34m,\u001b[0m \u001b[0mtimeout\u001b[0m\u001b[0;34m)\u001b[0m\u001b[0;34m:\u001b[0m\u001b[0;34m\u001b[0m\u001b[0;34m\u001b[0m\u001b[0m\n\u001b[0m\u001b[1;32m   1050\u001b[0m             \u001b[0mlock\u001b[0m\u001b[0;34m.\u001b[0m\u001b[0mrelease\u001b[0m\u001b[0;34m(\u001b[0m\u001b[0;34m)\u001b[0m\u001b[0;34m\u001b[0m\u001b[0;34m\u001b[0m\u001b[0m\n\u001b[1;32m   1051\u001b[0m             \u001b[0mself\u001b[0m\u001b[0;34m.\u001b[0m\u001b[0m_stop\u001b[0m\u001b[0;34m(\u001b[0m\u001b[0;34m)\u001b[0m\u001b[0;34m\u001b[0m\u001b[0;34m\u001b[0m\u001b[0m\n",
      "\u001b[0;31mKeyboardInterrupt\u001b[0m: "
     ]
    }
   ],
   "source": [
    "# model\n",
    "model = XGBClassifier()\n",
    "\n",
    "#grid\n",
    "weights = [1, np.sum(y == 0) / float(np.sum(y == 1)),10, 25, 50, 75, 99, 100, 1000]\n",
    "param_grid = dict(scale_pos_weight=weights)\n",
    "\n",
    "#evaluation\n",
    "cv = RepeatedStratifiedKFold(n_splits=10, n_repeats=3, random_state=1)\n",
    "\n",
    "#grid search\n",
    "grid = GridSearchCV(estimator=model, param_grid=param_grid, n_jobs=-1, cv=cv, scoring='roc_auc')\n",
    "\n",
    "# execute the grid search\n",
    "grid_result = grid.fit(X, y)\n",
    "\n",
    "# report the best configuration\n",
    "print(\"Best: %f using %s\" % (grid_result.best_score_, grid_result.best_params_))\n",
    "\n",
    "# report all configurations\n",
    "means = grid_result.cv_results_['mean_test_score']\n",
    "stds = grid_result.cv_results_['std_test_score']\n",
    "params = grid_result.cv_results_['params']\n",
    "for mean, stdev, param in zip(means, stds, params):\n",
    "    print(\"%f (%f) with: %r\" % (mean, stdev, param))"
   ]
  },
  {
   "cell_type": "code",
   "execution_count": null,
   "id": "521bf4b6",
   "metadata": {},
   "outputs": [],
   "source": []
  }
 ],
 "metadata": {
  "kernelspec": {
   "display_name": "Python 3",
   "language": "python",
   "name": "python3"
  },
  "language_info": {
   "codemirror_mode": {
    "name": "ipython",
    "version": 3
   },
   "file_extension": ".py",
   "mimetype": "text/x-python",
   "name": "python",
   "nbconvert_exporter": "python",
   "pygments_lexer": "ipython3",
   "version": "3.9.5"
  }
 },
 "nbformat": 4,
 "nbformat_minor": 5
}
